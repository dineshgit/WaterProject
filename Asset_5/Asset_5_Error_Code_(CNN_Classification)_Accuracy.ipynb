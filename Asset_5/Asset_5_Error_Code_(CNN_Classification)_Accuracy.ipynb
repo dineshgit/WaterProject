{
  "nbformat": 4,
  "nbformat_minor": 0,
  "metadata": {
    "kernelspec": {
      "display_name": "Python 3",
      "language": "python",
      "name": "python3"
    },
    "language_info": {
      "codemirror_mode": {
        "name": "ipython",
        "version": 3
      },
      "file_extension": ".py",
      "mimetype": "text/x-python",
      "name": "python",
      "nbconvert_exporter": "python",
      "pygments_lexer": "ipython3",
      "version": "3.7.7"
    },
    "colab": {
      "name": "Asset 5 - Error Code (CNN Classification) Accuracy.ipynb",
      "provenance": [],
      "toc_visible": true
    },
    "accelerator": "GPU"
  },
  "cells": [
    {
      "cell_type": "markdown",
      "metadata": {
        "id": "0Y53eV4rr0cC",
        "colab_type": "text"
      },
      "source": [
        "#### Asset 5 Error Code -> CNN -> Accuracy"
      ]
    },
    {
      "cell_type": "code",
      "metadata": {
        "id": "vdwMgas5r0cE",
        "colab_type": "code",
        "colab": {
          "base_uri": "https://localhost:8080/",
          "height": 34
        },
        "outputId": "8e82db1e-f560-4ff2-acc7-46b1728979fb"
      },
      "source": [
        "from numpy import mean\n",
        "from numpy import std\n",
        "from numpy import dstack\n",
        "import pandas as pd\n",
        "pd.options.mode.chained_assignment = None\n",
        "import random as rn\n",
        "import os\n",
        "import numpy as np\n",
        "from numpy import array\n",
        "from pandas import read_csv\n",
        "from keras.models import Sequential\n",
        "from keras.layers import Dense\n",
        "from keras.layers import LSTM\n",
        "from keras.layers import Flatten\n",
        "from keras.layers import Dropout\n",
        "from keras.layers import Embedding, Bidirectional\n",
        "from keras.layers.convolutional import Conv1D\n",
        "from keras.layers.convolutional import MaxPooling1D\n",
        "from keras.utils import to_categorical\n",
        "from sklearn import preprocessing\n",
        "\n",
        "import tensorflow as tf\n",
        "from keras.utils import to_categorical\n",
        "\n",
        "from time import time\n",
        "import keras\n",
        "from keras import backend as K\n",
        "from keras.utils.vis_utils import plot_model\n",
        "import pydot\n",
        "\n",
        "from sklearn.metrics import accuracy_score\n",
        "from sklearn.model_selection import train_test_split\n",
        "from sklearn.metrics import precision_score\n",
        "from sklearn.metrics import recall_score\n",
        "from sklearn.metrics import f1_score\n",
        "from sklearn.metrics import cohen_kappa_score\n",
        "from sklearn.metrics import roc_auc_score\n",
        "from sklearn.metrics import confusion_matrix\n",
        "from sklearn.metrics import classification_report\n",
        "\n",
        "from livelossplot import PlotLossesKeras\n",
        "from keras.callbacks import ModelCheckpoint, EarlyStopping\n",
        "\n",
        "# Setting Seed for reproducibility.\n",
        "sd = 1 # Here sd means seed.\n",
        "np.random.seed(sd)\n",
        "rn.seed(sd)\n",
        "os.environ['PYTHONHASHSEED']=str(sd)\n",
        "\n",
        "import warnings\n",
        "warnings.filterwarnings('always')\n",
        "\n",
        "import tensorflow.python.util.deprecation as deprecation\n",
        "deprecation._PRINT_DEPRECATION_WARNINGS = False"
      ],
      "execution_count": 2,
      "outputs": [
        {
          "output_type": "stream",
          "text": [
            "Using TensorFlow backend.\n"
          ],
          "name": "stderr"
        }
      ]
    },
    {
      "cell_type": "code",
      "metadata": {
        "id": "VeszRrmFr0cM",
        "colab_type": "code",
        "colab": {}
      },
      "source": [
        "df_5 = pd.read_csv('Asset5_ErrorCode.csv')"
      ],
      "execution_count": 3,
      "outputs": []
    },
    {
      "cell_type": "code",
      "metadata": {
        "id": "LVO80W3Mr0cS",
        "colab_type": "code",
        "colab": {}
      },
      "source": [
        "df_5 = df_5.copy()"
      ],
      "execution_count": 4,
      "outputs": []
    },
    {
      "cell_type": "code",
      "metadata": {
        "id": "Tw4JAfL7r0cY",
        "colab_type": "code",
        "colab": {
          "base_uri": "https://localhost:8080/",
          "height": 202
        },
        "outputId": "96e6b7fc-d131-444e-ef4d-e7f776cb985b"
      },
      "source": [
        "df_5.head()"
      ],
      "execution_count": 5,
      "outputs": [
        {
          "output_type": "execute_result",
          "data": {
            "text/html": [
              "<div>\n",
              "<style scoped>\n",
              "    .dataframe tbody tr th:only-of-type {\n",
              "        vertical-align: middle;\n",
              "    }\n",
              "\n",
              "    .dataframe tbody tr th {\n",
              "        vertical-align: top;\n",
              "    }\n",
              "\n",
              "    .dataframe thead th {\n",
              "        text-align: right;\n",
              "    }\n",
              "</style>\n",
              "<table border=\"1\" class=\"dataframe\">\n",
              "  <thead>\n",
              "    <tr style=\"text-align: right;\">\n",
              "      <th></th>\n",
              "      <th>DateTime</th>\n",
              "      <th>ErrorCode</th>\n",
              "      <th>FlowTime</th>\n",
              "      <th>Amount</th>\n",
              "      <th>Litres</th>\n",
              "      <th>Voltage</th>\n",
              "      <th>FxRate</th>\n",
              "      <th>FlowRate</th>\n",
              "    </tr>\n",
              "  </thead>\n",
              "  <tbody>\n",
              "    <tr>\n",
              "      <th>0</th>\n",
              "      <td>2004-01-01 01:35:09</td>\n",
              "      <td>9</td>\n",
              "      <td>66</td>\n",
              "      <td>19</td>\n",
              "      <td>32.391667</td>\n",
              "      <td>5.578702</td>\n",
              "      <td>0.025</td>\n",
              "      <td>29.446970</td>\n",
              "    </tr>\n",
              "    <tr>\n",
              "      <th>1</th>\n",
              "      <td>2004-01-01 01:38:00</td>\n",
              "      <td>9</td>\n",
              "      <td>22</td>\n",
              "      <td>6</td>\n",
              "      <td>10.547222</td>\n",
              "      <td>5.578702</td>\n",
              "      <td>0.025</td>\n",
              "      <td>28.765152</td>\n",
              "    </tr>\n",
              "    <tr>\n",
              "      <th>2</th>\n",
              "      <td>2004-01-01 01:39:02</td>\n",
              "      <td>9</td>\n",
              "      <td>2</td>\n",
              "      <td>0</td>\n",
              "      <td>0.444444</td>\n",
              "      <td>5.578702</td>\n",
              "      <td>0.025</td>\n",
              "      <td>13.333333</td>\n",
              "    </tr>\n",
              "    <tr>\n",
              "      <th>3</th>\n",
              "      <td>2004-01-01 03:38:07</td>\n",
              "      <td>9</td>\n",
              "      <td>2</td>\n",
              "      <td>0</td>\n",
              "      <td>0.422222</td>\n",
              "      <td>5.578702</td>\n",
              "      <td>0.025</td>\n",
              "      <td>12.666667</td>\n",
              "    </tr>\n",
              "    <tr>\n",
              "      <th>4</th>\n",
              "      <td>2004-01-01 03:39:09</td>\n",
              "      <td>9</td>\n",
              "      <td>42</td>\n",
              "      <td>12</td>\n",
              "      <td>19.869444</td>\n",
              "      <td>5.578702</td>\n",
              "      <td>0.025</td>\n",
              "      <td>28.384921</td>\n",
              "    </tr>\n",
              "  </tbody>\n",
              "</table>\n",
              "</div>"
            ],
            "text/plain": [
              "              DateTime  ErrorCode  FlowTime  ...   Voltage  FxRate   FlowRate\n",
              "0  2004-01-01 01:35:09          9        66  ...  5.578702   0.025  29.446970\n",
              "1  2004-01-01 01:38:00          9        22  ...  5.578702   0.025  28.765152\n",
              "2  2004-01-01 01:39:02          9         2  ...  5.578702   0.025  13.333333\n",
              "3  2004-01-01 03:38:07          9         2  ...  5.578702   0.025  12.666667\n",
              "4  2004-01-01 03:39:09          9        42  ...  5.578702   0.025  28.384921\n",
              "\n",
              "[5 rows x 8 columns]"
            ]
          },
          "metadata": {
            "tags": []
          },
          "execution_count": 5
        }
      ]
    },
    {
      "cell_type": "markdown",
      "metadata": {
        "id": "Q-Wy7zCKr0cc",
        "colab_type": "text"
      },
      "source": [
        "#### Check unique Error Code values"
      ]
    },
    {
      "cell_type": "code",
      "metadata": {
        "id": "kpFpkRA3r0ce",
        "colab_type": "code",
        "colab": {
          "base_uri": "https://localhost:8080/",
          "height": 277
        },
        "outputId": "13ed91da-3367-452f-c0c2-87eb1a616e3f"
      },
      "source": [
        "df_5.ErrorCode.value_counts()"
      ],
      "execution_count": 6,
      "outputs": [
        {
          "output_type": "execute_result",
          "data": {
            "text/plain": [
              "9     39797\n",
              "17     1276\n",
              "6      1070\n",
              "5       723\n",
              "24      704\n",
              "1       638\n",
              "14      506\n",
              "16      245\n",
              "15      206\n",
              "11       27\n",
              "18       21\n",
              "23        5\n",
              "7         1\n",
              "2         1\n",
              "Name: ErrorCode, dtype: int64"
            ]
          },
          "metadata": {
            "tags": []
          },
          "execution_count": 6
        }
      ]
    },
    {
      "cell_type": "code",
      "metadata": {
        "id": "E_GhSF0sr0ch",
        "colab_type": "code",
        "colab": {
          "base_uri": "https://localhost:8080/",
          "height": 34
        },
        "outputId": "f2084985-5b40-47cc-e0c0-1b49636e9e30"
      },
      "source": [
        "df_5.ErrorCode.nunique()"
      ],
      "execution_count": 7,
      "outputs": [
        {
          "output_type": "execute_result",
          "data": {
            "text/plain": [
              "14"
            ]
          },
          "metadata": {
            "tags": []
          },
          "execution_count": 7
        }
      ]
    },
    {
      "cell_type": "markdown",
      "metadata": {
        "id": "3qJCuDFjr0cl",
        "colab_type": "text"
      },
      "source": [
        "#### Remove the single occurence of Error Code to ensure proper class balance in each data split"
      ]
    },
    {
      "cell_type": "code",
      "metadata": {
        "id": "sONwjGEor0cm",
        "colab_type": "code",
        "colab": {}
      },
      "source": [
        "df_5 = df_5[df_5.ErrorCode != 7]"
      ],
      "execution_count": 8,
      "outputs": []
    },
    {
      "cell_type": "code",
      "metadata": {
        "id": "D1LJpW3Tr0cr",
        "colab_type": "code",
        "colab": {}
      },
      "source": [
        "df_5 = df_5[df_5.ErrorCode != 2]"
      ],
      "execution_count": 9,
      "outputs": []
    },
    {
      "cell_type": "code",
      "metadata": {
        "id": "qME5YiQZr0cu",
        "colab_type": "code",
        "colab": {
          "base_uri": "https://localhost:8080/",
          "height": 34
        },
        "outputId": "2a03ea59-e441-4fcf-a7fd-b34be445b9e1"
      },
      "source": [
        "df_5.ErrorCode.unique()"
      ],
      "execution_count": 10,
      "outputs": [
        {
          "output_type": "execute_result",
          "data": {
            "text/plain": [
              "array([ 9,  1,  5, 16, 14, 24,  6, 17, 15, 23, 11, 18])"
            ]
          },
          "metadata": {
            "tags": []
          },
          "execution_count": 10
        }
      ]
    },
    {
      "cell_type": "code",
      "metadata": {
        "id": "0E_i1p_hr0cz",
        "colab_type": "code",
        "colab": {
          "base_uri": "https://localhost:8080/",
          "height": 34
        },
        "outputId": "0016c274-636c-4d69-b8eb-dad103be53bd"
      },
      "source": [
        "df_5.ErrorCode.nunique()"
      ],
      "execution_count": 11,
      "outputs": [
        {
          "output_type": "execute_result",
          "data": {
            "text/plain": [
              "12"
            ]
          },
          "metadata": {
            "tags": []
          },
          "execution_count": 11
        }
      ]
    },
    {
      "cell_type": "markdown",
      "metadata": {
        "id": "WW9K8npsr0c4",
        "colab_type": "text"
      },
      "source": [
        "#### Split Train/Test data from main Asset file"
      ]
    },
    {
      "cell_type": "code",
      "metadata": {
        "id": "1XkEGBjar0c4",
        "colab_type": "code",
        "colab": {}
      },
      "source": [
        "train, test = train_test_split(df_5, test_size=0.3, random_state=42, shuffle=True)"
      ],
      "execution_count": 12,
      "outputs": []
    },
    {
      "cell_type": "code",
      "metadata": {
        "id": "tO6PsPCOr0c9",
        "colab_type": "code",
        "colab": {}
      },
      "source": [
        "train = train.set_index('DateTime')\n",
        "test = test.set_index('DateTime')"
      ],
      "execution_count": 13,
      "outputs": []
    },
    {
      "cell_type": "code",
      "metadata": {
        "id": "iB0FEc4dr0dB",
        "colab_type": "code",
        "colab": {
          "base_uri": "https://localhost:8080/",
          "height": 34
        },
        "outputId": "15ce5958-8a24-456d-a5fa-4549b3525595"
      },
      "source": [
        "train.shape, test.shape"
      ],
      "execution_count": 14,
      "outputs": [
        {
          "output_type": "execute_result",
          "data": {
            "text/plain": [
              "((31652, 7), (13566, 7))"
            ]
          },
          "metadata": {
            "tags": []
          },
          "execution_count": 14
        }
      ]
    },
    {
      "cell_type": "code",
      "metadata": {
        "id": "BmGuZi1br0dF",
        "colab_type": "code",
        "colab": {}
      },
      "source": [
        "trainX = train.drop('ErrorCode', axis=1)\n",
        "testX = test.drop('ErrorCode', axis=1)"
      ],
      "execution_count": 15,
      "outputs": []
    },
    {
      "cell_type": "code",
      "metadata": {
        "id": "HAFldLNzr0dI",
        "colab_type": "code",
        "colab": {}
      },
      "source": [
        "trainy = train.drop(['FlowTime', 'Amount', 'Litres', 'Voltage', 'FxRate', 'FlowRate'], axis=1)\n",
        "testy = test.drop(['FlowTime', 'Amount', 'Litres', 'Voltage', 'FxRate', 'FlowRate'], axis=1)"
      ],
      "execution_count": 16,
      "outputs": []
    },
    {
      "cell_type": "code",
      "metadata": {
        "id": "eUOHMG2sr0dM",
        "colab_type": "code",
        "colab": {
          "base_uri": "https://localhost:8080/",
          "height": 34
        },
        "outputId": "879f5e36-5a16-4903-f481-a8c7bcb0f470"
      },
      "source": [
        "trainX.shape, trainy.shape"
      ],
      "execution_count": 17,
      "outputs": [
        {
          "output_type": "execute_result",
          "data": {
            "text/plain": [
              "((31652, 6), (31652, 1))"
            ]
          },
          "metadata": {
            "tags": []
          },
          "execution_count": 17
        }
      ]
    },
    {
      "cell_type": "code",
      "metadata": {
        "id": "kGFJezC0r0dQ",
        "colab_type": "code",
        "colab": {
          "base_uri": "https://localhost:8080/",
          "height": 34
        },
        "outputId": "41605331-ac04-48b4-83e2-b5b7e365f196"
      },
      "source": [
        "testX.shape, testy.shape"
      ],
      "execution_count": 18,
      "outputs": [
        {
          "output_type": "execute_result",
          "data": {
            "text/plain": [
              "((13566, 6), (13566, 1))"
            ]
          },
          "metadata": {
            "tags": []
          },
          "execution_count": 18
        }
      ]
    },
    {
      "cell_type": "markdown",
      "metadata": {
        "id": "Q__PDjbbr0dT",
        "colab_type": "text"
      },
      "source": [
        "#### Split data to obtain Validation data set (20 % used as validation)"
      ]
    },
    {
      "cell_type": "code",
      "metadata": {
        "id": "vN5X4Lfor0dU",
        "colab_type": "code",
        "colab": {}
      },
      "source": [
        "trainX, valX, trainy, valy = train_test_split(trainX, trainy, test_size=0.2, random_state=32, shuffle=True)"
      ],
      "execution_count": 19,
      "outputs": []
    },
    {
      "cell_type": "code",
      "metadata": {
        "id": "KGkHf2Elr0dW",
        "colab_type": "code",
        "colab": {
          "base_uri": "https://localhost:8080/",
          "height": 0
        },
        "outputId": "1d0f7817-987f-43d6-b1dd-9585d6608023"
      },
      "source": [
        "valX.shape, valy.shape"
      ],
      "execution_count": 20,
      "outputs": [
        {
          "output_type": "execute_result",
          "data": {
            "text/plain": [
              "((6331, 6), (6331, 1))"
            ]
          },
          "metadata": {
            "tags": []
          },
          "execution_count": 20
        }
      ]
    },
    {
      "cell_type": "markdown",
      "metadata": {
        "id": "nAE_893nr0da",
        "colab_type": "text"
      },
      "source": [
        "#### Check if the number of classes look similar to earlier results"
      ]
    },
    {
      "cell_type": "code",
      "metadata": {
        "id": "goGrbGRHr0db",
        "colab_type": "code",
        "colab": {
          "base_uri": "https://localhost:8080/",
          "height": 0
        },
        "outputId": "6c1c24a2-564f-45fb-fed5-d3c9ad0f41fa"
      },
      "source": [
        "valy.ErrorCode.unique()"
      ],
      "execution_count": 21,
      "outputs": [
        {
          "output_type": "execute_result",
          "data": {
            "text/plain": [
              "array([ 9,  5, 24,  6, 14, 16,  1, 15, 17, 11, 18])"
            ]
          },
          "metadata": {
            "tags": []
          },
          "execution_count": 21
        }
      ]
    },
    {
      "cell_type": "code",
      "metadata": {
        "id": "7ijlEGWjr0de",
        "colab_type": "code",
        "colab": {
          "base_uri": "https://localhost:8080/",
          "height": 0
        },
        "outputId": "14f3cec5-01d7-4234-f0d3-1e724db24b62"
      },
      "source": [
        "valy.ErrorCode.nunique()"
      ],
      "execution_count": 22,
      "outputs": [
        {
          "output_type": "execute_result",
          "data": {
            "text/plain": [
              "11"
            ]
          },
          "metadata": {
            "tags": []
          },
          "execution_count": 22
        }
      ]
    },
    {
      "cell_type": "markdown",
      "metadata": {
        "id": "r596uopqr0dj",
        "colab_type": "text"
      },
      "source": [
        "#### Convert all classes in all data splits to categorical"
      ]
    },
    {
      "cell_type": "code",
      "metadata": {
        "id": "R0Fiw14Xr0dj",
        "colab_type": "code",
        "colab": {}
      },
      "source": [
        "trainy = to_categorical(trainy)\n",
        "testy = to_categorical(testy)\n",
        "valy = to_categorical(valy)"
      ],
      "execution_count": 23,
      "outputs": []
    },
    {
      "cell_type": "code",
      "metadata": {
        "id": "rGVv0Jwhr0dn",
        "colab_type": "code",
        "colab": {
          "base_uri": "https://localhost:8080/",
          "height": 0
        },
        "outputId": "4f6bce57-8dba-4e02-a78d-dc8708315c9e"
      },
      "source": [
        "trainy.shape, testy.shape, valy.shape"
      ],
      "execution_count": 24,
      "outputs": [
        {
          "output_type": "execute_result",
          "data": {
            "text/plain": [
              "((25321, 25), (13566, 25), (6331, 25))"
            ]
          },
          "metadata": {
            "tags": []
          },
          "execution_count": 24
        }
      ]
    },
    {
      "cell_type": "markdown",
      "metadata": {
        "id": "1Sx4KVTur0dq",
        "colab_type": "text"
      },
      "source": [
        "#### Helper function to split data into suitable timesteps (30 timesteps/hours are used) "
      ]
    },
    {
      "cell_type": "code",
      "metadata": {
        "id": "upREV3s5r0dq",
        "colab_type": "code",
        "colab": {}
      },
      "source": [
        "def split_sequence(sequence, n_steps):\n",
        "    X, y = list(), list()\n",
        "    for i in range(len(sequence)):\n",
        "        end_ix = i + n_steps\n",
        "        if end_ix > len(sequence)-1:\n",
        "            break\n",
        "        seq_x, seq_y = sequence[i:end_ix], sequence[end_ix]\n",
        "        X.append(seq_x)\n",
        "        y.append(seq_y)\n",
        "    return array(X), array(y)"
      ],
      "execution_count": 25,
      "outputs": []
    },
    {
      "cell_type": "markdown",
      "metadata": {
        "id": "c2GuoG3Gr0dt",
        "colab_type": "text"
      },
      "source": [
        "#### Train data splitting"
      ]
    },
    {
      "cell_type": "code",
      "metadata": {
        "id": "E5OcmIVVr0dt",
        "colab_type": "code",
        "colab": {}
      },
      "source": [
        "trainX = np.array(trainX) \n",
        "trainy = np.array(trainy)"
      ],
      "execution_count": 26,
      "outputs": []
    },
    {
      "cell_type": "code",
      "metadata": {
        "id": "-dUxGDtcr0dx",
        "colab_type": "code",
        "colab": {}
      },
      "source": [
        "trainX, _ = split_sequence(trainX, 30)\n",
        "_, trainy = split_sequence(trainy, 30)"
      ],
      "execution_count": 27,
      "outputs": []
    },
    {
      "cell_type": "code",
      "metadata": {
        "id": "eAf9BUqEr0d0",
        "colab_type": "code",
        "colab": {
          "base_uri": "https://localhost:8080/",
          "height": 0
        },
        "outputId": "223e30c2-061a-4bd1-888e-d758b41c4637"
      },
      "source": [
        "trainX.shape, trainy.shape"
      ],
      "execution_count": 28,
      "outputs": [
        {
          "output_type": "execute_result",
          "data": {
            "text/plain": [
              "((25291, 30, 6), (25291, 25))"
            ]
          },
          "metadata": {
            "tags": []
          },
          "execution_count": 28
        }
      ]
    },
    {
      "cell_type": "markdown",
      "metadata": {
        "id": "h1nnAI06r0d2",
        "colab_type": "text"
      },
      "source": [
        "#### Test data splitting"
      ]
    },
    {
      "cell_type": "code",
      "metadata": {
        "id": "hZ1eMY6Pr0d3",
        "colab_type": "code",
        "colab": {}
      },
      "source": [
        "testX = np.array(testX) \n",
        "testy = np.array(testy)"
      ],
      "execution_count": 29,
      "outputs": []
    },
    {
      "cell_type": "code",
      "metadata": {
        "id": "OVoTrw8ar0d6",
        "colab_type": "code",
        "colab": {}
      },
      "source": [
        "testX, _ = split_sequence(testX, 30)\n",
        "_, testy = split_sequence(testy, 30)"
      ],
      "execution_count": 30,
      "outputs": []
    },
    {
      "cell_type": "code",
      "metadata": {
        "id": "z5T8rBYxr0d-",
        "colab_type": "code",
        "colab": {
          "base_uri": "https://localhost:8080/",
          "height": 0
        },
        "outputId": "20477970-79f0-4006-ef3b-d67a8a464483"
      },
      "source": [
        "testX.shape, testy.shape"
      ],
      "execution_count": 31,
      "outputs": [
        {
          "output_type": "execute_result",
          "data": {
            "text/plain": [
              "((13536, 30, 6), (13536, 25))"
            ]
          },
          "metadata": {
            "tags": []
          },
          "execution_count": 31
        }
      ]
    },
    {
      "cell_type": "markdown",
      "metadata": {
        "id": "dEIEapIzr0eA",
        "colab_type": "text"
      },
      "source": [
        "#### Validation data splitting"
      ]
    },
    {
      "cell_type": "code",
      "metadata": {
        "id": "rhq07Ve0r0eB",
        "colab_type": "code",
        "colab": {}
      },
      "source": [
        "valX = np.array(valX) \n",
        "valy = np.array(valy)"
      ],
      "execution_count": 32,
      "outputs": []
    },
    {
      "cell_type": "code",
      "metadata": {
        "id": "su9fijpjr0eE",
        "colab_type": "code",
        "colab": {}
      },
      "source": [
        "valX, _ = split_sequence(valX, 30)\n",
        "_, valy = split_sequence(valy, 30)"
      ],
      "execution_count": 33,
      "outputs": []
    },
    {
      "cell_type": "code",
      "metadata": {
        "id": "mrUwYxver0eH",
        "colab_type": "code",
        "colab": {
          "base_uri": "https://localhost:8080/",
          "height": 0
        },
        "outputId": "0f0f8b99-a0a3-4436-c691-d418f431cacf"
      },
      "source": [
        "valX.shape, valy.shape"
      ],
      "execution_count": 34,
      "outputs": [
        {
          "output_type": "execute_result",
          "data": {
            "text/plain": [
              "((6301, 30, 6), (6301, 25))"
            ]
          },
          "metadata": {
            "tags": []
          },
          "execution_count": 34
        }
      ]
    },
    {
      "cell_type": "markdown",
      "metadata": {
        "id": "eFtDsNMAr0eK",
        "colab_type": "text"
      },
      "source": [
        "#### Custom Keras metric to calculate Recall, Precision and F1 Score"
      ]
    },
    {
      "cell_type": "code",
      "metadata": {
        "id": "hljn3teqr0eL",
        "colab_type": "code",
        "colab": {}
      },
      "source": [
        "class Metrics(tf.keras.callbacks.Callback):\n",
        "    \n",
        "    def __init__(self, valid_data):\n",
        "        super(Metrics, self).__init__()\n",
        "        self.validation_data = valid_data\n",
        "\n",
        "    def on_epoch_end(self, epoch, logs=None):\n",
        "        logs = logs or {}\n",
        "        val_predict = np.argmax(self.model.predict(self.validation_data[0]), -1)\n",
        "        val_targ = self.validation_data[1]\n",
        "        if len(val_targ.shape) == 2 and val_targ.shape[1] != 1:\n",
        "            val_targ = np.argmax(val_targ, -1)\n",
        "\n",
        "        _val_f1 = f1_score(val_targ, val_predict, average='macro')\n",
        "        _val_recall = recall_score(val_targ, val_predict, average='macro')\n",
        "        _val_precision = precision_score(val_targ, val_predict, average='macro')\n",
        "\n",
        "        logs['val_f1'] = _val_f1\n",
        "        logs['val_recall'] = _val_recall\n",
        "        logs['val_precision'] = _val_precision\n",
        "        print(\" — val_f1: %f — val_precision: %f — val_recall: %f\" % (_val_f1, _val_precision, _val_recall))\n",
        "        return"
      ],
      "execution_count": 35,
      "outputs": []
    },
    {
      "cell_type": "markdown",
      "metadata": {
        "id": "6VZ-7nMdr0eP",
        "colab_type": "text"
      },
      "source": [
        "#### Define model architecture"
      ]
    },
    {
      "cell_type": "code",
      "metadata": {
        "id": "me2fZ0mFr0eQ",
        "colab_type": "code",
        "colab": {
          "base_uri": "https://localhost:8080/",
          "height": 1000
        },
        "outputId": "01181483-9fe0-46cf-9ecf-470eeee3470b"
      },
      "source": [
        "verbose, epochs, batch_size = 1, 200, 64\n",
        "n_nodes = 100\n",
        "filters = 64\n",
        "kernel = 3\n",
        "\n",
        "n_timesteps, n_features, n_outputs = trainX.shape[1], trainX.shape[2], trainy.shape[1]\n",
        "\n",
        "# Early stopping and Model checkpointing\n",
        "es = EarlyStopping(monitor='val_f1', mode='max', verbose=1, patience=50, min_delta=1)\n",
        "mc = ModelCheckpoint('Asset_5_best_model_CNN-ErrorCode.h5', monitor='val_f1', mode='max', verbose=1, save_best_only=True)\n",
        "\n",
        "model = Sequential()\n",
        "model.add(Conv1D(filters=filters, kernel_size=kernel, activation='relu', input_shape=(n_timesteps,n_features)))\n",
        "model.add(Conv1D(filters=filters, kernel_size=kernel, activation='relu'))\n",
        "#model.add(Dropout(0.5))\n",
        "model.add(MaxPooling1D(pool_size=2))\n",
        "model.add(Flatten())\n",
        "model.add(Dense(n_nodes, activation='relu'))\n",
        "model.add(Dense(n_outputs, activation='softmax'))\n",
        "\n",
        "# Compile model\n",
        "model.compile(optimizer='adam', loss='categorical_crossentropy', metrics=['accuracy'])\n",
        "\n",
        "# Fit network\n",
        "start = time()\n",
        "\n",
        "model.fit(trainX, trainy, validation_data=(valX, valy), epochs=epochs, batch_size=batch_size, verbose=verbose, \n",
        "          callbacks=[Metrics(valid_data=(valX, valy)), es, mc, PlotLossesKeras()])\n",
        "\n",
        "print('\\n')\n",
        "print('Training time in minutes: %.2f' % ((time() - start) / 60))\n",
        "print('\\n')\n",
        "model.summary()\n",
        "keras.utils.vis_utils.pydot = pydot\n",
        "plot_model(model, to_file='Asset_5_Architecture_CNN-ErrorCode.png')"
      ],
      "execution_count": 36,
      "outputs": [
        {
          "output_type": "display_data",
          "data": {
            "image/png": "[encoded data removed]",
            "text/plain": [
              "<Figure size 864x1152 with 6 Axes>"
            ]
          },
          "metadata": {
            "tags": [],
            "needs_background": "light"
          }
        },
        {
          "output_type": "stream",
          "text": [
            "accuracy\n",
            "\tvalidation       \t (min:    0.798, max:    0.888, cur:    0.841)\n",
            "\ttraining         \t (min:    0.874, max:    0.996, cur:    0.990)\n",
            "f1\n",
            "\tval_f1           \t (min:    0.077, max:    0.092, cur:    0.083)\n",
            "Loss\n",
            "\tvalidation       \t (min:    0.593, max:    3.519, cur:    3.447)\n",
            "\ttraining         \t (min:    0.016, max:    0.779, cur:    0.033)\n",
            "precision\n",
            "\tval_precision    \t (min:    0.076, max:    0.103, cur:    0.086)\n",
            "recall\n",
            "\tval_recall       \t (min:    0.079, max:    0.093, cur:    0.084)\n",
            "Epoch 00051: early stopping\n",
            "\n",
            "\n",
            "Training time in minutes: 2.43\n",
            "\n",
            "\n",
            "Model: \"sequential_1\"\n",
            "_________________________________________________________________\n",
            "Layer (type)                 Output Shape              Param #   \n",
            "=================================================================\n",
            "conv1d_1 (Conv1D)            (None, 28, 64)            1216      \n",
            "_________________________________________________________________\n",
            "conv1d_2 (Conv1D)            (None, 26, 64)            12352     \n",
            "_________________________________________________________________\n",
            "max_pooling1d_1 (MaxPooling1 (None, 13, 64)            0         \n",
            "_________________________________________________________________\n",
            "flatten_1 (Flatten)          (None, 832)               0         \n",
            "_________________________________________________________________\n",
            "dense_1 (Dense)              (None, 100)               83300     \n",
            "_________________________________________________________________\n",
            "dense_2 (Dense)              (None, 25)                2525      \n",
            "=================================================================\n",
            "Total params: 99,393\n",
            "Trainable params: 99,393\n",
            "Non-trainable params: 0\n",
            "_________________________________________________________________\n"
          ],
          "name": "stdout"
        },
        {
          "output_type": "execute_result",
          "data": {
            "image/png": "[encoded data removed]",
            "text/plain": [
              "<IPython.core.display.Image object>"
            ]
          },
          "metadata": {
            "tags": []
          },
          "execution_count": 36
        }
      ]
    },
    {
      "cell_type": "code",
      "metadata": {
        "id": "3cGpSyI4r0eX",
        "colab_type": "code",
        "colab": {
          "base_uri": "https://localhost:8080/",
          "height": 51
        },
        "outputId": "1adc92bf-624d-43a1-dd27-550629ae6100"
      },
      "source": [
        "# Evaluate the model\n",
        "loss, accuracy = model.evaluate(testX, testy, verbose=0)\n",
        "\n",
        "print('Accuracy: %f' % accuracy)\n",
        "print('Loss: %f' % loss)"
      ],
      "execution_count": 37,
      "outputs": [
        {
          "output_type": "stream",
          "text": [
            "Accuracy: 0.834441\n",
            "Loss: 3.846621\n"
          ],
          "name": "stdout"
        }
      ]
    },
    {
      "cell_type": "markdown",
      "metadata": {
        "id": "RFanKdfTr0eZ",
        "colab_type": "text"
      },
      "source": [
        "#### Using trained model to score testX data"
      ]
    },
    {
      "cell_type": "code",
      "metadata": {
        "id": "pITZ3VQEr0ea",
        "colab_type": "code",
        "colab": {
          "base_uri": "https://localhost:8080/",
          "height": 34
        },
        "outputId": "89286d35-54e6-40cc-bca4-d60d3b6f4abd"
      },
      "source": [
        "testX.shape"
      ],
      "execution_count": 38,
      "outputs": [
        {
          "output_type": "execute_result",
          "data": {
            "text/plain": [
              "(13536, 30, 6)"
            ]
          },
          "metadata": {
            "tags": []
          },
          "execution_count": 38
        }
      ]
    },
    {
      "cell_type": "code",
      "metadata": {
        "id": "TAwKMInHr0ee",
        "colab_type": "code",
        "colab": {}
      },
      "source": [
        "# Predict probabilities for test set\n",
        "yhat_probs = model.predict(testX, verbose=0)"
      ],
      "execution_count": 39,
      "outputs": []
    },
    {
      "cell_type": "code",
      "metadata": {
        "id": "GRC8mXVRr0ei",
        "colab_type": "code",
        "colab": {}
      },
      "source": [
        "yhat_probs_decoded = np.argmax(yhat_probs, axis=-1)"
      ],
      "execution_count": 40,
      "outputs": []
    },
    {
      "cell_type": "code",
      "metadata": {
        "id": "Su7SyE8Vr0ep",
        "colab_type": "code",
        "colab": {
          "base_uri": "https://localhost:8080/",
          "height": 34
        },
        "outputId": "f0ca11d2-2fff-48c2-85e7-1c2716f92d8b"
      },
      "source": [
        "yhat_probs_decoded[:5]"
      ],
      "execution_count": 41,
      "outputs": [
        {
          "output_type": "execute_result",
          "data": {
            "text/plain": [
              "array([9, 9, 9, 9, 9])"
            ]
          },
          "metadata": {
            "tags": []
          },
          "execution_count": 41
        }
      ]
    },
    {
      "cell_type": "markdown",
      "metadata": {
        "id": "OaHalt3Jr0eu",
        "colab_type": "text"
      },
      "source": [
        "yhat_probs_decoded -> Shows the first 5 samples of predicted Error Code classes for testX data."
      ]
    },
    {
      "cell_type": "markdown",
      "metadata": {
        "id": "IgoBtCr8r0ew",
        "colab_type": "text"
      },
      "source": [
        "#### ROC AUC Computation"
      ]
    },
    {
      "cell_type": "code",
      "metadata": {
        "id": "vEnxeWair0ex",
        "colab_type": "code",
        "colab": {
          "base_uri": "https://localhost:8080/",
          "height": 51
        },
        "outputId": "75b6f7ae-55b7-42dd-ddb3-0a2012716705"
      },
      "source": [
        "# ROC AUC Computation\n",
        "#print('ROC AUC Macro: %f' % roc_auc_score(y_true=testy, y_score=yhat_probs, average='macro')) # --> Macro will not work if there's only one class present in y_true.\n",
        "print('ROC AUC Micro: %f' % roc_auc_score(y_true=testy, y_score=yhat_probs, average='micro'))\n",
        "print('ROC AUC Samples: %f' % roc_auc_score(y_true=testy, y_score=yhat_probs, average='samples'))"
      ],
      "execution_count": 42,
      "outputs": [
        {
          "output_type": "stream",
          "text": [
            "ROC AUC Micro: 0.972352\n",
            "ROC AUC Samples: 0.975008\n"
          ],
          "name": "stdout"
        }
      ]
    },
    {
      "cell_type": "markdown",
      "metadata": {
        "id": "NQdwuJD2r0e2",
        "colab_type": "text"
      },
      "source": [
        "#### Load Saved Model"
      ]
    },
    {
      "cell_type": "code",
      "metadata": {
        "id": "JM5BDbCkr0e3",
        "colab_type": "code",
        "colab": {}
      },
      "source": [
        "from keras.models import load_model\n",
        "custom_obj = {'Metrics':Metrics}\n",
        "\n",
        "model_CNN = load_model('Asset_5_best_model_CNN-ErrorCode.h5', custom_objects=custom_obj)"
      ],
      "execution_count": 43,
      "outputs": []
    },
    {
      "cell_type": "markdown",
      "metadata": {
        "id": "bVAq5iuKr0e6",
        "colab_type": "text"
      },
      "source": [
        "#### Prediction activity using previous timesteps"
      ]
    },
    {
      "cell_type": "code",
      "metadata": {
        "id": "I0l9ydFcr0e8",
        "colab_type": "code",
        "colab": {}
      },
      "source": [
        "Asset_5 = pd.read_csv('Asset5_ErrorCode.csv', header=0, index_col=0)\n",
        "Asset_5_x_input = Asset_5.tail(100)"
      ],
      "execution_count": 44,
      "outputs": []
    },
    {
      "cell_type": "code",
      "metadata": {
        "id": "mxcwg3FZr0e_",
        "colab_type": "code",
        "colab": {}
      },
      "source": [
        "Asset_5_x_input = Asset_5_x_input.drop('ErrorCode', axis=1)"
      ],
      "execution_count": 45,
      "outputs": []
    },
    {
      "cell_type": "code",
      "metadata": {
        "id": "3SOaXxR3r0fC",
        "colab_type": "code",
        "colab": {
          "base_uri": "https://localhost:8080/",
          "height": 232
        },
        "outputId": "4c710131-2f30-4d8d-c04c-000e6c4c4f79"
      },
      "source": [
        "Asset_5_x_input.head()"
      ],
      "execution_count": 46,
      "outputs": [
        {
          "output_type": "execute_result",
          "data": {
            "text/html": [
              "<div>\n",
              "<style scoped>\n",
              "    .dataframe tbody tr th:only-of-type {\n",
              "        vertical-align: middle;\n",
              "    }\n",
              "\n",
              "    .dataframe tbody tr th {\n",
              "        vertical-align: top;\n",
              "    }\n",
              "\n",
              "    .dataframe thead th {\n",
              "        text-align: right;\n",
              "    }\n",
              "</style>\n",
              "<table border=\"1\" class=\"dataframe\">\n",
              "  <thead>\n",
              "    <tr style=\"text-align: right;\">\n",
              "      <th></th>\n",
              "      <th>FlowTime</th>\n",
              "      <th>Amount</th>\n",
              "      <th>Litres</th>\n",
              "      <th>Voltage</th>\n",
              "      <th>FxRate</th>\n",
              "      <th>FlowRate</th>\n",
              "    </tr>\n",
              "    <tr>\n",
              "      <th>DateTime</th>\n",
              "      <th></th>\n",
              "      <th></th>\n",
              "      <th></th>\n",
              "      <th></th>\n",
              "      <th></th>\n",
              "      <th></th>\n",
              "    </tr>\n",
              "  </thead>\n",
              "  <tbody>\n",
              "    <tr>\n",
              "      <th>2018-07-09 00:33:56</th>\n",
              "      <td>75</td>\n",
              "      <td>9</td>\n",
              "      <td>24.313889</td>\n",
              "      <td>13.12</td>\n",
              "      <td>0.025</td>\n",
              "      <td>19.451111</td>\n",
              "    </tr>\n",
              "    <tr>\n",
              "      <th>2018-07-09 00:35:19</th>\n",
              "      <td>80</td>\n",
              "      <td>10</td>\n",
              "      <td>25.641667</td>\n",
              "      <td>13.12</td>\n",
              "      <td>0.025</td>\n",
              "      <td>19.231250</td>\n",
              "    </tr>\n",
              "    <tr>\n",
              "      <th>2018-07-09 00:49:31</th>\n",
              "      <td>44</td>\n",
              "      <td>5</td>\n",
              "      <td>13.616667</td>\n",
              "      <td>13.12</td>\n",
              "      <td>0.025</td>\n",
              "      <td>18.568182</td>\n",
              "    </tr>\n",
              "    <tr>\n",
              "      <th>2018-07-09 00:54:11</th>\n",
              "      <td>33</td>\n",
              "      <td>4</td>\n",
              "      <td>10.427778</td>\n",
              "      <td>13.12</td>\n",
              "      <td>0.025</td>\n",
              "      <td>18.959596</td>\n",
              "    </tr>\n",
              "    <tr>\n",
              "      <th>2018-07-09 01:00:57</th>\n",
              "      <td>37</td>\n",
              "      <td>5</td>\n",
              "      <td>12.238889</td>\n",
              "      <td>13.12</td>\n",
              "      <td>0.025</td>\n",
              "      <td>19.846847</td>\n",
              "    </tr>\n",
              "  </tbody>\n",
              "</table>\n",
              "</div>"
            ],
            "text/plain": [
              "                     FlowTime  Amount     Litres  Voltage  FxRate   FlowRate\n",
              "DateTime                                                                    \n",
              "2018-07-09 00:33:56        75       9  24.313889    13.12   0.025  19.451111\n",
              "2018-07-09 00:35:19        80      10  25.641667    13.12   0.025  19.231250\n",
              "2018-07-09 00:49:31        44       5  13.616667    13.12   0.025  18.568182\n",
              "2018-07-09 00:54:11        33       4  10.427778    13.12   0.025  18.959596\n",
              "2018-07-09 01:00:57        37       5  12.238889    13.12   0.025  19.846847"
            ]
          },
          "metadata": {
            "tags": []
          },
          "execution_count": 46
        }
      ]
    },
    {
      "cell_type": "code",
      "metadata": {
        "id": "yjYRVOsmr0fF",
        "colab_type": "code",
        "colab": {}
      },
      "source": [
        "Asset_5_x_input = Asset_5_x_input.values"
      ],
      "execution_count": 47,
      "outputs": []
    },
    {
      "cell_type": "code",
      "metadata": {
        "id": "VUhEe-epr0fI",
        "colab_type": "code",
        "colab": {}
      },
      "source": [
        "Asset_5_x_input, _ = split_sequence(Asset_5_x_input, 30)"
      ],
      "execution_count": 48,
      "outputs": []
    },
    {
      "cell_type": "code",
      "metadata": {
        "id": "NYTsWEUvr0fM",
        "colab_type": "code",
        "colab": {
          "base_uri": "https://localhost:8080/",
          "height": 34
        },
        "outputId": "4fd4e80b-3413-401d-8e60-bd3f60f0828c"
      },
      "source": [
        "print(np.asarray(Asset_5_x_input).shape)"
      ],
      "execution_count": 49,
      "outputs": [
        {
          "output_type": "stream",
          "text": [
            "(70, 30, 6)\n"
          ],
          "name": "stdout"
        }
      ]
    },
    {
      "cell_type": "code",
      "metadata": {
        "id": "71c9xS1Ur0fP",
        "colab_type": "code",
        "colab": {}
      },
      "source": [
        "Asset_5_x_input = np.array(Asset_5_x_input)"
      ],
      "execution_count": 50,
      "outputs": []
    },
    {
      "cell_type": "markdown",
      "metadata": {
        "id": "-xNsz7vfr0fU",
        "colab_type": "text"
      },
      "source": [
        "#### Probabilities of all predictions"
      ]
    },
    {
      "cell_type": "code",
      "metadata": {
        "id": "puzgcKzXr0fV",
        "colab_type": "code",
        "colab": {
          "base_uri": "https://localhost:8080/",
          "height": 242
        },
        "outputId": "e679df1c-af23-4dcd-d491-cf2e32578639"
      },
      "source": [
        "Asset_5_yhat = model_CNN.predict(Asset_5_x_input, verbose=0)\n",
        "Asset_5_yhat"
      ],
      "execution_count": 51,
      "outputs": [
        {
          "output_type": "execute_result",
          "data": {
            "text/plain": [
              "array([[6.5910049e-13, 9.4065443e-05, 9.6696242e-17, ..., 5.2206384e-14,\n",
              "        1.3776445e-21, 3.4738375e-06],\n",
              "       [6.8199092e-19, 1.6011659e-12, 5.3294561e-26, ..., 1.7250625e-24,\n",
              "        3.9804285e-28, 6.5003935e-12],\n",
              "       [9.3805487e-29, 2.5578985e-11, 1.9246296e-30, ..., 4.6274115e-26,\n",
              "        2.2482172e-28, 3.3943189e-11],\n",
              "       ...,\n",
              "       [2.5777054e-12, 1.0566623e-04, 4.2783493e-13, ..., 9.0891328e-15,\n",
              "        2.8943070e-13, 7.4096418e-10],\n",
              "       [1.1209220e-29, 3.0957100e-13, 4.9832760e-36, ..., 1.1476953e-31,\n",
              "        1.3410343e-31, 1.5004777e-17],\n",
              "       [5.3639373e-37, 3.3153466e-14, 0.0000000e+00, ..., 0.0000000e+00,\n",
              "        2.5528979e-28, 3.0102615e-15]], dtype=float32)"
            ]
          },
          "metadata": {
            "tags": []
          },
          "execution_count": 51
        }
      ]
    },
    {
      "cell_type": "code",
      "metadata": {
        "id": "fnhid5BLr0fZ",
        "colab_type": "code",
        "colab": {
          "base_uri": "https://localhost:8080/",
          "height": 34
        },
        "outputId": "343cc7db-b70e-4b2b-9cbd-643254b9bddf"
      },
      "source": [
        "Asset_5_yhat.shape"
      ],
      "execution_count": 52,
      "outputs": [
        {
          "output_type": "execute_result",
          "data": {
            "text/plain": [
              "(70, 25)"
            ]
          },
          "metadata": {
            "tags": []
          },
          "execution_count": 52
        }
      ]
    },
    {
      "cell_type": "markdown",
      "metadata": {
        "id": "kP1Hmr3Qr0fd",
        "colab_type": "text"
      },
      "source": [
        "#### Convert all prediction probabilities to actual Error Codes"
      ]
    },
    {
      "cell_type": "code",
      "metadata": {
        "id": "Duz1UA2Wr0fd",
        "colab_type": "code",
        "colab": {
          "base_uri": "https://localhost:8080/",
          "height": 34
        },
        "outputId": "36268760-1411-4a6a-aad0-560391eecacc"
      },
      "source": [
        "np.argmax(Asset_5_yhat, axis=-1).shape"
      ],
      "execution_count": 53,
      "outputs": [
        {
          "output_type": "execute_result",
          "data": {
            "text/plain": [
              "(70,)"
            ]
          },
          "metadata": {
            "tags": []
          },
          "execution_count": 53
        }
      ]
    },
    {
      "cell_type": "code",
      "metadata": {
        "id": "2xEisTeQr0fh",
        "colab_type": "code",
        "colab": {
          "base_uri": "https://localhost:8080/",
          "height": 103
        },
        "outputId": "6c071943-955a-42b5-8183-c20dcf567448"
      },
      "source": [
        "np.argmax(Asset_5_yhat, axis=-1)"
      ],
      "execution_count": 54,
      "outputs": [
        {
          "output_type": "execute_result",
          "data": {
            "text/plain": [
              "array([ 9,  9,  9, 17,  9,  9,  9,  9,  9,  9,  9,  9,  9,  9,  9, 15,  9,\n",
              "        9,  9,  9,  9,  9,  9,  9,  9,  9,  9,  9,  9,  9,  9,  9,  9,  9,\n",
              "        9,  9,  9,  9,  9,  9,  9,  9,  9,  9,  9,  9,  9,  9,  9,  9,  9,\n",
              "        9,  9,  9,  9,  9,  9,  9,  9,  9,  9,  9,  9,  9,  9,  9,  9,  9,\n",
              "        9,  9])"
            ]
          },
          "metadata": {
            "tags": []
          },
          "execution_count": 54
        }
      ]
    },
    {
      "cell_type": "code",
      "metadata": {
        "id": "0aktEUjKr0fj",
        "colab_type": "code",
        "colab": {}
      },
      "source": [
        ""
      ],
      "execution_count": 54,
      "outputs": []
    }
  ]
}