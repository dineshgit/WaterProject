{
  "nbformat": 4,
  "nbformat_minor": 0,
  "metadata": {
    "kernelspec": {
      "display_name": "Python 3",
      "language": "python",
      "name": "python3"
    },
    "language_info": {
      "codemirror_mode": {
        "name": "ipython",
        "version": 3
      },
      "file_extension": ".py",
      "mimetype": "text/x-python",
      "name": "python",
      "nbconvert_exporter": "python",
      "pygments_lexer": "ipython3",
      "version": "3.7.7"
    },
    "colab": {
      "name": "Asset 5 - Error Code (CNN-BiLSTM Classification) Accuracy.ipynb",
      "provenance": [],
      "toc_visible": true
    },
    "accelerator": "GPU"
  },
  "cells": [
    {
      "cell_type": "markdown",
      "metadata": {
        "id": "_Hf4hYYksaj3",
        "colab_type": "text"
      },
      "source": [
        "#### Asset 5 Error Code -> CNN-BiLSTM -> Accuracy"
      ]
    },
    {
      "cell_type": "code",
      "metadata": {
        "id": "2LTDN4n-saj4",
        "colab_type": "code",
        "colab": {
          "base_uri": "https://localhost:8080/",
          "height": 34
        },
        "outputId": "3040e377-6fed-4f11-c57e-71bd7a8a57bb"
      },
      "source": [
        "from numpy import mean\n",
        "from numpy import std\n",
        "from numpy import dstack\n",
        "import pandas as pd\n",
        "pd.options.mode.chained_assignment = None\n",
        "import random as rn\n",
        "import os\n",
        "import numpy as np\n",
        "from numpy import array\n",
        "from pandas import read_csv\n",
        "from keras.models import Sequential\n",
        "from keras.layers import Dense\n",
        "from keras.layers import LSTM\n",
        "from keras.layers import Flatten\n",
        "from keras.layers import Dropout\n",
        "from keras.layers import TimeDistributed\n",
        "from keras.layers import Embedding, Bidirectional\n",
        "from keras.layers.convolutional import Conv1D\n",
        "from keras.layers.convolutional import MaxPooling1D\n",
        "from keras.utils import to_categorical\n",
        "from sklearn import preprocessing\n",
        "\n",
        "import tensorflow as tf\n",
        "from keras.utils import to_categorical\n",
        "\n",
        "from time import time\n",
        "import keras\n",
        "from keras import backend as K\n",
        "from keras.utils.vis_utils import plot_model\n",
        "import pydot\n",
        "\n",
        "from sklearn.metrics import accuracy_score\n",
        "from sklearn.model_selection import train_test_split\n",
        "from sklearn.metrics import precision_score\n",
        "from sklearn.metrics import recall_score\n",
        "from sklearn.metrics import f1_score\n",
        "from sklearn.metrics import cohen_kappa_score\n",
        "from sklearn.metrics import roc_auc_score\n",
        "from sklearn.metrics import confusion_matrix\n",
        "from sklearn.metrics import classification_report\n",
        "\n",
        "from livelossplot import PlotLossesKeras\n",
        "from keras.callbacks import ModelCheckpoint, EarlyStopping\n",
        "\n",
        "# Setting Seed for reproducibility.\n",
        "sd = 1 # Here sd means seed.\n",
        "np.random.seed(sd)\n",
        "rn.seed(sd)\n",
        "os.environ['PYTHONHASHSEED']=str(sd)\n",
        "\n",
        "import warnings\n",
        "warnings.filterwarnings('always')\n",
        "\n",
        "import tensorflow.python.util.deprecation as deprecation\n",
        "deprecation._PRINT_DEPRECATION_WARNINGS = False"
      ],
      "execution_count": 2,
      "outputs": [
        {
          "output_type": "stream",
          "text": [
            "Using TensorFlow backend.\n"
          ],
          "name": "stderr"
        }
      ]
    },
    {
      "cell_type": "code",
      "metadata": {
        "id": "l0j6N2Gqsaj8",
        "colab_type": "code",
        "colab": {}
      },
      "source": [
        "df_5 = pd.read_csv('Asset5_ErrorCode.csv')"
      ],
      "execution_count": 3,
      "outputs": []
    },
    {
      "cell_type": "code",
      "metadata": {
        "id": "S3U2o39AsakA",
        "colab_type": "code",
        "colab": {}
      },
      "source": [
        "df_5 = df_5.copy()"
      ],
      "execution_count": 4,
      "outputs": []
    },
    {
      "cell_type": "code",
      "metadata": {
        "id": "KscyBdy_sakD",
        "colab_type": "code",
        "colab": {
          "base_uri": "https://localhost:8080/",
          "height": 202
        },
        "outputId": "441e4215-d5a5-4392-edb6-1f3649ab866f"
      },
      "source": [
        "df_5.head()"
      ],
      "execution_count": 5,
      "outputs": [
        {
          "output_type": "execute_result",
          "data": {
            "text/html": [
              "<div>\n",
              "<style scoped>\n",
              "    .dataframe tbody tr th:only-of-type {\n",
              "        vertical-align: middle;\n",
              "    }\n",
              "\n",
              "    .dataframe tbody tr th {\n",
              "        vertical-align: top;\n",
              "    }\n",
              "\n",
              "    .dataframe thead th {\n",
              "        text-align: right;\n",
              "    }\n",
              "</style>\n",
              "<table border=\"1\" class=\"dataframe\">\n",
              "  <thead>\n",
              "    <tr style=\"text-align: right;\">\n",
              "      <th></th>\n",
              "      <th>DateTime</th>\n",
              "      <th>ErrorCode</th>\n",
              "      <th>FlowTime</th>\n",
              "      <th>Amount</th>\n",
              "      <th>Litres</th>\n",
              "      <th>Voltage</th>\n",
              "      <th>FxRate</th>\n",
              "      <th>FlowRate</th>\n",
              "    </tr>\n",
              "  </thead>\n",
              "  <tbody>\n",
              "    <tr>\n",
              "      <th>0</th>\n",
              "      <td>2004-01-01 01:35:09</td>\n",
              "      <td>9</td>\n",
              "      <td>66</td>\n",
              "      <td>19</td>\n",
              "      <td>32.391667</td>\n",
              "      <td>5.578702</td>\n",
              "      <td>0.025</td>\n",
              "      <td>29.446970</td>\n",
              "    </tr>\n",
              "    <tr>\n",
              "      <th>1</th>\n",
              "      <td>2004-01-01 01:38:00</td>\n",
              "      <td>9</td>\n",
              "      <td>22</td>\n",
              "      <td>6</td>\n",
              "      <td>10.547222</td>\n",
              "      <td>5.578702</td>\n",
              "      <td>0.025</td>\n",
              "      <td>28.765152</td>\n",
              "    </tr>\n",
              "    <tr>\n",
              "      <th>2</th>\n",
              "      <td>2004-01-01 01:39:02</td>\n",
              "      <td>9</td>\n",
              "      <td>2</td>\n",
              "      <td>0</td>\n",
              "      <td>0.444444</td>\n",
              "      <td>5.578702</td>\n",
              "      <td>0.025</td>\n",
              "      <td>13.333333</td>\n",
              "    </tr>\n",
              "    <tr>\n",
              "      <th>3</th>\n",
              "      <td>2004-01-01 03:38:07</td>\n",
              "      <td>9</td>\n",
              "      <td>2</td>\n",
              "      <td>0</td>\n",
              "      <td>0.422222</td>\n",
              "      <td>5.578702</td>\n",
              "      <td>0.025</td>\n",
              "      <td>12.666667</td>\n",
              "    </tr>\n",
              "    <tr>\n",
              "      <th>4</th>\n",
              "      <td>2004-01-01 03:39:09</td>\n",
              "      <td>9</td>\n",
              "      <td>42</td>\n",
              "      <td>12</td>\n",
              "      <td>19.869444</td>\n",
              "      <td>5.578702</td>\n",
              "      <td>0.025</td>\n",
              "      <td>28.384921</td>\n",
              "    </tr>\n",
              "  </tbody>\n",
              "</table>\n",
              "</div>"
            ],
            "text/plain": [
              "              DateTime  ErrorCode  FlowTime  ...   Voltage  FxRate   FlowRate\n",
              "0  2004-01-01 01:35:09          9        66  ...  5.578702   0.025  29.446970\n",
              "1  2004-01-01 01:38:00          9        22  ...  5.578702   0.025  28.765152\n",
              "2  2004-01-01 01:39:02          9         2  ...  5.578702   0.025  13.333333\n",
              "3  2004-01-01 03:38:07          9         2  ...  5.578702   0.025  12.666667\n",
              "4  2004-01-01 03:39:09          9        42  ...  5.578702   0.025  28.384921\n",
              "\n",
              "[5 rows x 8 columns]"
            ]
          },
          "metadata": {
            "tags": []
          },
          "execution_count": 5
        }
      ]
    },
    {
      "cell_type": "markdown",
      "metadata": {
        "id": "ihtp_lOXsakG",
        "colab_type": "text"
      },
      "source": [
        "#### Check unique Error Code values"
      ]
    },
    {
      "cell_type": "code",
      "metadata": {
        "id": "aLj6xzzVsakH",
        "colab_type": "code",
        "colab": {
          "base_uri": "https://localhost:8080/",
          "height": 277
        },
        "outputId": "51d12ec5-74d5-478c-b28f-c063e2f0da75"
      },
      "source": [
        "df_5.ErrorCode.value_counts()"
      ],
      "execution_count": 6,
      "outputs": [
        {
          "output_type": "execute_result",
          "data": {
            "text/plain": [
              "9     39797\n",
              "17     1276\n",
              "6      1070\n",
              "5       723\n",
              "24      704\n",
              "1       638\n",
              "14      506\n",
              "16      245\n",
              "15      206\n",
              "11       27\n",
              "18       21\n",
              "23        5\n",
              "7         1\n",
              "2         1\n",
              "Name: ErrorCode, dtype: int64"
            ]
          },
          "metadata": {
            "tags": []
          },
          "execution_count": 6
        }
      ]
    },
    {
      "cell_type": "code",
      "metadata": {
        "id": "g4S7x7YqsakL",
        "colab_type": "code",
        "colab": {
          "base_uri": "https://localhost:8080/",
          "height": 34
        },
        "outputId": "af2e9660-e6b7-4841-a1c0-7638c10ae5f3"
      },
      "source": [
        "df_5.ErrorCode.nunique()"
      ],
      "execution_count": 7,
      "outputs": [
        {
          "output_type": "execute_result",
          "data": {
            "text/plain": [
              "14"
            ]
          },
          "metadata": {
            "tags": []
          },
          "execution_count": 7
        }
      ]
    },
    {
      "cell_type": "markdown",
      "metadata": {
        "id": "fPLUcacCsakO",
        "colab_type": "text"
      },
      "source": [
        "#### Remove the single occurence of Error Code to ensure proper class balance in each data split"
      ]
    },
    {
      "cell_type": "code",
      "metadata": {
        "id": "k5AjeZbvsakP",
        "colab_type": "code",
        "colab": {}
      },
      "source": [
        "df_5 = df_5[df_5.ErrorCode != 7]"
      ],
      "execution_count": 8,
      "outputs": []
    },
    {
      "cell_type": "code",
      "metadata": {
        "id": "0jPVNbHqsakT",
        "colab_type": "code",
        "colab": {}
      },
      "source": [
        "df_5 = df_5[df_5.ErrorCode != 2]"
      ],
      "execution_count": 9,
      "outputs": []
    },
    {
      "cell_type": "code",
      "metadata": {
        "id": "NYGVqfUgsakV",
        "colab_type": "code",
        "colab": {
          "base_uri": "https://localhost:8080/",
          "height": 34
        },
        "outputId": "7c1a1336-229c-42d0-cd33-6b500386a3ac"
      },
      "source": [
        "df_5.ErrorCode.nunique()"
      ],
      "execution_count": 10,
      "outputs": [
        {
          "output_type": "execute_result",
          "data": {
            "text/plain": [
              "12"
            ]
          },
          "metadata": {
            "tags": []
          },
          "execution_count": 10
        }
      ]
    },
    {
      "cell_type": "markdown",
      "metadata": {
        "id": "W1l8g51asakY",
        "colab_type": "text"
      },
      "source": [
        "#### Split Train/Test data from main Asset file"
      ]
    },
    {
      "cell_type": "code",
      "metadata": {
        "id": "zu1bwi0dsakZ",
        "colab_type": "code",
        "colab": {}
      },
      "source": [
        "train, test = train_test_split(df_5, test_size=0.3, random_state=42, shuffle=True)"
      ],
      "execution_count": 11,
      "outputs": []
    },
    {
      "cell_type": "code",
      "metadata": {
        "id": "p5FotjMNsakb",
        "colab_type": "code",
        "colab": {}
      },
      "source": [
        "train = train.set_index('DateTime')\n",
        "test = test.set_index('DateTime')"
      ],
      "execution_count": 12,
      "outputs": []
    },
    {
      "cell_type": "code",
      "metadata": {
        "id": "FJizwopssake",
        "colab_type": "code",
        "colab": {
          "base_uri": "https://localhost:8080/",
          "height": 34
        },
        "outputId": "e58eaf21-fdf1-41f9-cc76-8e92290d1d0d"
      },
      "source": [
        "train.shape, test.shape"
      ],
      "execution_count": 13,
      "outputs": [
        {
          "output_type": "execute_result",
          "data": {
            "text/plain": [
              "((31652, 7), (13566, 7))"
            ]
          },
          "metadata": {
            "tags": []
          },
          "execution_count": 13
        }
      ]
    },
    {
      "cell_type": "code",
      "metadata": {
        "id": "ToYPa1Kzsakh",
        "colab_type": "code",
        "colab": {}
      },
      "source": [
        "trainX = train.drop('ErrorCode', axis=1)\n",
        "testX = test.drop('ErrorCode', axis=1)"
      ],
      "execution_count": 14,
      "outputs": []
    },
    {
      "cell_type": "code",
      "metadata": {
        "id": "4AmnK3B9sakk",
        "colab_type": "code",
        "colab": {}
      },
      "source": [
        "trainy = train.drop(['FlowTime', 'Amount', 'Litres', 'Voltage', 'FxRate', 'FlowRate'], axis=1)\n",
        "testy = test.drop(['FlowTime', 'Amount', 'Litres', 'Voltage', 'FxRate', 'FlowRate'], axis=1)"
      ],
      "execution_count": 15,
      "outputs": []
    },
    {
      "cell_type": "code",
      "metadata": {
        "id": "0DbcjDiasakn",
        "colab_type": "code",
        "colab": {
          "base_uri": "https://localhost:8080/",
          "height": 34
        },
        "outputId": "7575e7ec-b43e-4f99-a9ff-d05a7b065a51"
      },
      "source": [
        "trainX.shape, trainy.shape"
      ],
      "execution_count": 16,
      "outputs": [
        {
          "output_type": "execute_result",
          "data": {
            "text/plain": [
              "((31652, 6), (31652, 1))"
            ]
          },
          "metadata": {
            "tags": []
          },
          "execution_count": 16
        }
      ]
    },
    {
      "cell_type": "code",
      "metadata": {
        "id": "nYxhPQTjsakp",
        "colab_type": "code",
        "colab": {
          "base_uri": "https://localhost:8080/",
          "height": 34
        },
        "outputId": "046fe7ea-95d5-40ac-82be-edb9407a4754"
      },
      "source": [
        "testX.shape, testy.shape"
      ],
      "execution_count": 17,
      "outputs": [
        {
          "output_type": "execute_result",
          "data": {
            "text/plain": [
              "((13566, 6), (13566, 1))"
            ]
          },
          "metadata": {
            "tags": []
          },
          "execution_count": 17
        }
      ]
    },
    {
      "cell_type": "markdown",
      "metadata": {
        "id": "fCIhC_4Jsaks",
        "colab_type": "text"
      },
      "source": [
        "#### Split data to obtain Validation data set (20 % used as validation)"
      ]
    },
    {
      "cell_type": "code",
      "metadata": {
        "id": "48L-n_nZsaks",
        "colab_type": "code",
        "colab": {}
      },
      "source": [
        "trainX, valX, trainy, valy = train_test_split(trainX, trainy, test_size=0.2, random_state=32, shuffle=True)"
      ],
      "execution_count": 18,
      "outputs": []
    },
    {
      "cell_type": "code",
      "metadata": {
        "id": "C-52Dmv4sakv",
        "colab_type": "code",
        "colab": {
          "base_uri": "https://localhost:8080/",
          "height": 0
        },
        "outputId": "064e7823-7623-48da-ef7e-ba4aef6ae17d"
      },
      "source": [
        "valX.shape, valy.shape"
      ],
      "execution_count": 19,
      "outputs": [
        {
          "output_type": "execute_result",
          "data": {
            "text/plain": [
              "((6331, 6), (6331, 1))"
            ]
          },
          "metadata": {
            "tags": []
          },
          "execution_count": 19
        }
      ]
    },
    {
      "cell_type": "markdown",
      "metadata": {
        "id": "5Xz1lZ8hsakx",
        "colab_type": "text"
      },
      "source": [
        "#### Check if the number of classes look similar to earlier results"
      ]
    },
    {
      "cell_type": "code",
      "metadata": {
        "id": "iIoDCX8Isaky",
        "colab_type": "code",
        "colab": {
          "base_uri": "https://localhost:8080/",
          "height": 0
        },
        "outputId": "e8de4d0f-ddd7-4f5d-f896-b38ef2f54312"
      },
      "source": [
        "valy.ErrorCode.unique()"
      ],
      "execution_count": 20,
      "outputs": [
        {
          "output_type": "execute_result",
          "data": {
            "text/plain": [
              "array([ 9,  5, 24,  6, 14, 16,  1, 15, 17, 11, 18])"
            ]
          },
          "metadata": {
            "tags": []
          },
          "execution_count": 20
        }
      ]
    },
    {
      "cell_type": "code",
      "metadata": {
        "id": "ay72blsesak1",
        "colab_type": "code",
        "colab": {
          "base_uri": "https://localhost:8080/",
          "height": 0
        },
        "outputId": "284a3f03-71fd-4911-bb5b-d53c1cb65885"
      },
      "source": [
        "valy.ErrorCode.nunique()"
      ],
      "execution_count": 21,
      "outputs": [
        {
          "output_type": "execute_result",
          "data": {
            "text/plain": [
              "11"
            ]
          },
          "metadata": {
            "tags": []
          },
          "execution_count": 21
        }
      ]
    },
    {
      "cell_type": "markdown",
      "metadata": {
        "id": "bTbVz1LQsak4",
        "colab_type": "text"
      },
      "source": [
        "#### Convert all classes in all data splits to categorical"
      ]
    },
    {
      "cell_type": "code",
      "metadata": {
        "id": "Ons-0E3Msak5",
        "colab_type": "code",
        "colab": {}
      },
      "source": [
        "trainy = to_categorical(trainy)\n",
        "testy = to_categorical(testy)\n",
        "valy = to_categorical(valy)"
      ],
      "execution_count": 22,
      "outputs": []
    },
    {
      "cell_type": "code",
      "metadata": {
        "id": "icJM801Ysak8",
        "colab_type": "code",
        "colab": {
          "base_uri": "https://localhost:8080/",
          "height": 0
        },
        "outputId": "0f71cf85-a861-4606-c110-ff7069034e99"
      },
      "source": [
        "trainy.shape, testy.shape, valy.shape"
      ],
      "execution_count": 23,
      "outputs": [
        {
          "output_type": "execute_result",
          "data": {
            "text/plain": [
              "((25321, 25), (13566, 25), (6331, 25))"
            ]
          },
          "metadata": {
            "tags": []
          },
          "execution_count": 23
        }
      ]
    },
    {
      "cell_type": "markdown",
      "metadata": {
        "id": "BkTXwFmVsak_",
        "colab_type": "text"
      },
      "source": [
        "#### Helper function to split data into suitable timesteps (30 timesteps/hours are used) "
      ]
    },
    {
      "cell_type": "code",
      "metadata": {
        "id": "7pQj8rrzsak_",
        "colab_type": "code",
        "colab": {}
      },
      "source": [
        "def split_sequence(sequence, n_steps):\n",
        "    X, y = list(), list()\n",
        "    for i in range(len(sequence)):\n",
        "        end_ix = i + n_steps\n",
        "        if end_ix > len(sequence)-1:\n",
        "            break\n",
        "        seq_x, seq_y = sequence[i:end_ix], sequence[end_ix]\n",
        "        X.append(seq_x)\n",
        "        y.append(seq_y)\n",
        "    return array(X), array(y)"
      ],
      "execution_count": 24,
      "outputs": []
    },
    {
      "cell_type": "markdown",
      "metadata": {
        "id": "tSap8QUqsalD",
        "colab_type": "text"
      },
      "source": [
        "#### Train data splitting"
      ]
    },
    {
      "cell_type": "code",
      "metadata": {
        "id": "UldaAwDxsalD",
        "colab_type": "code",
        "colab": {}
      },
      "source": [
        "trainX = np.array(trainX) \n",
        "trainy = np.array(trainy)"
      ],
      "execution_count": 25,
      "outputs": []
    },
    {
      "cell_type": "code",
      "metadata": {
        "id": "bMAv829UsalI",
        "colab_type": "code",
        "colab": {}
      },
      "source": [
        "trainX, _ = split_sequence(trainX, 30)\n",
        "_, trainy = split_sequence(trainy, 30)"
      ],
      "execution_count": 26,
      "outputs": []
    },
    {
      "cell_type": "code",
      "metadata": {
        "id": "dyNOnPbgsalK",
        "colab_type": "code",
        "colab": {
          "base_uri": "https://localhost:8080/",
          "height": 0
        },
        "outputId": "6e214d53-3f7a-4667-a700-9eaa9f7318de"
      },
      "source": [
        "trainX.shape, trainy.shape"
      ],
      "execution_count": 27,
      "outputs": [
        {
          "output_type": "execute_result",
          "data": {
            "text/plain": [
              "((25291, 30, 6), (25291, 25))"
            ]
          },
          "metadata": {
            "tags": []
          },
          "execution_count": 27
        }
      ]
    },
    {
      "cell_type": "markdown",
      "metadata": {
        "id": "A_BgsWN1salO",
        "colab_type": "text"
      },
      "source": [
        "#### Test data splitting"
      ]
    },
    {
      "cell_type": "code",
      "metadata": {
        "id": "0mRSQCJ8salO",
        "colab_type": "code",
        "colab": {}
      },
      "source": [
        "testX = np.array(testX) \n",
        "testy = np.array(testy)"
      ],
      "execution_count": 28,
      "outputs": []
    },
    {
      "cell_type": "code",
      "metadata": {
        "id": "FqLMvUmpsalR",
        "colab_type": "code",
        "colab": {}
      },
      "source": [
        "testX, _ = split_sequence(testX, 30)\n",
        "_, testy = split_sequence(testy, 30)"
      ],
      "execution_count": 29,
      "outputs": []
    },
    {
      "cell_type": "code",
      "metadata": {
        "id": "bbnV_bUPsalU",
        "colab_type": "code",
        "colab": {
          "base_uri": "https://localhost:8080/",
          "height": 0
        },
        "outputId": "8ca13545-f1a4-4285-d296-7e35c22bff22"
      },
      "source": [
        "testX.shape, testy.shape"
      ],
      "execution_count": 30,
      "outputs": [
        {
          "output_type": "execute_result",
          "data": {
            "text/plain": [
              "((13536, 30, 6), (13536, 25))"
            ]
          },
          "metadata": {
            "tags": []
          },
          "execution_count": 30
        }
      ]
    },
    {
      "cell_type": "markdown",
      "metadata": {
        "id": "U6jAAJdisalY",
        "colab_type": "text"
      },
      "source": [
        "#### Validation data splitting"
      ]
    },
    {
      "cell_type": "code",
      "metadata": {
        "id": "mdrT_1rrsalY",
        "colab_type": "code",
        "colab": {}
      },
      "source": [
        "valX = np.array(valX) \n",
        "valy = np.array(valy)"
      ],
      "execution_count": 31,
      "outputs": []
    },
    {
      "cell_type": "code",
      "metadata": {
        "id": "xNznNWpzsalb",
        "colab_type": "code",
        "colab": {}
      },
      "source": [
        "valX, _ = split_sequence(valX, 30)\n",
        "_, valy = split_sequence(valy, 30)"
      ],
      "execution_count": 32,
      "outputs": []
    },
    {
      "cell_type": "code",
      "metadata": {
        "id": "SQ2I2Nyasale",
        "colab_type": "code",
        "colab": {
          "base_uri": "https://localhost:8080/",
          "height": 0
        },
        "outputId": "1248a224-e839-40ce-e793-124d013dc2fd"
      },
      "source": [
        "valX.shape, valy.shape"
      ],
      "execution_count": 33,
      "outputs": [
        {
          "output_type": "execute_result",
          "data": {
            "text/plain": [
              "((6301, 30, 6), (6301, 25))"
            ]
          },
          "metadata": {
            "tags": []
          },
          "execution_count": 33
        }
      ]
    },
    {
      "cell_type": "markdown",
      "metadata": {
        "id": "pr8zWYSysalh",
        "colab_type": "text"
      },
      "source": [
        "#### Custom Keras metric to calculate Recall, Precision and F1 Score"
      ]
    },
    {
      "cell_type": "code",
      "metadata": {
        "id": "3r3Nw31fsali",
        "colab_type": "code",
        "colab": {}
      },
      "source": [
        "class Metrics(tf.keras.callbacks.Callback):\n",
        "    \n",
        "    def __init__(self, valid_data):\n",
        "        super(Metrics, self).__init__()\n",
        "        self.validation_data = valid_data\n",
        "\n",
        "    def on_epoch_end(self, epoch, logs=None):\n",
        "        logs = logs or {}\n",
        "        val_predict = np.argmax(self.model.predict(self.validation_data[0]), -1)\n",
        "        val_targ = self.validation_data[1]\n",
        "        if len(val_targ.shape) == 2 and val_targ.shape[1] != 1:\n",
        "            val_targ = np.argmax(val_targ, -1)\n",
        "\n",
        "        _val_f1 = f1_score(val_targ, val_predict, average='macro')\n",
        "        _val_recall = recall_score(val_targ, val_predict, average='macro')\n",
        "        _val_precision = precision_score(val_targ, val_predict, average='macro')\n",
        "\n",
        "        logs['val_f1'] = _val_f1\n",
        "        logs['val_recall'] = _val_recall\n",
        "        logs['val_precision'] = _val_precision\n",
        "        print(\" — val_f1: %f — val_precision: %f — val_recall: %f\" % (_val_f1, _val_precision, _val_recall))\n",
        "        return"
      ],
      "execution_count": 34,
      "outputs": []
    },
    {
      "cell_type": "markdown",
      "metadata": {
        "id": "Hdc2C8e8sall",
        "colab_type": "text"
      },
      "source": [
        "#### Define model architecture"
      ]
    },
    {
      "cell_type": "code",
      "metadata": {
        "id": "1W2hcKYFsalm",
        "colab_type": "code",
        "colab": {
          "base_uri": "https://localhost:8080/",
          "height": 34
        },
        "outputId": "073a771d-81ac-4c29-a609-e0917f25fc72"
      },
      "source": [
        "trainX.shape, testX.shape"
      ],
      "execution_count": 35,
      "outputs": [
        {
          "output_type": "execute_result",
          "data": {
            "text/plain": [
              "((25291, 30, 6), (13536, 30, 6))"
            ]
          },
          "metadata": {
            "tags": []
          },
          "execution_count": 35
        }
      ]
    },
    {
      "cell_type": "code",
      "metadata": {
        "id": "R-eOGGOzsalq",
        "colab_type": "code",
        "colab": {
          "base_uri": "https://localhost:8080/",
          "height": 1000
        },
        "outputId": "e09a17c5-d2b0-4ef8-d372-2836e558a58b"
      },
      "source": [
        "verbose, epochs, batch_size = 1, 200, 64\n",
        "n_nodes = 100\n",
        "filters = 64\n",
        "kernel = 3\n",
        "\n",
        "n_features, n_outputs = trainX.shape[2], trainy.shape[1]\n",
        "\n",
        "# reshape data into time steps of sub-sequences (n_steps * n_length) -> must equal the timestep indicated in earlier data split == 30 hours.\n",
        "n_steps, n_length = 3, 10\n",
        "\n",
        "trainX = trainX.reshape((trainX.shape[0], n_steps, n_length, n_features))\n",
        "testX = testX.reshape((testX.shape[0], n_steps, n_length, n_features))\n",
        "valX = valX.reshape((valX.shape[0], n_steps, n_length, n_features))\n",
        "\n",
        "# Early stopping and Model checkpointing\n",
        "es = EarlyStopping(monitor='val_f1', mode='max', verbose=1, patience=50, min_delta=1)\n",
        "mc = ModelCheckpoint('Asset_5_best_model_CNN-BiLSTM-ErrorCode.h5', monitor='val_f1', mode='max', verbose=1, save_best_only=True)\n",
        "\n",
        "model = Sequential()\n",
        "model.add(TimeDistributed(Conv1D(filters=filters, kernel_size=kernel, activation='relu'), input_shape=(None,n_length,n_features)))\n",
        "model.add(TimeDistributed(Conv1D(filters=filters, kernel_size=kernel, activation='relu')))\n",
        "#model.add(TimeDistributed(Dropout(0.5)))\n",
        "model.add(TimeDistributed(MaxPooling1D(pool_size=2)))\n",
        "model.add(TimeDistributed(Flatten()))\n",
        "model.add(LSTM(n_nodes))\n",
        "#model.add(Dropout(0.5))\n",
        "model.add(Dense(n_nodes, activation='relu'))\n",
        "model.add(Dense(n_outputs, activation='softmax'))\n",
        "\n",
        "# Compile model\n",
        "model.compile(optimizer='adam', loss='categorical_crossentropy', metrics=['accuracy'])\n",
        "\n",
        "# Fit network\n",
        "start = time()\n",
        "\n",
        "model.fit(trainX, trainy, validation_data=(valX, valy), epochs=epochs, batch_size=batch_size, verbose=verbose, \n",
        "          callbacks=[Metrics(valid_data=(valX, valy)), es, mc, PlotLossesKeras()])\n",
        "\n",
        "print('\\n')\n",
        "print('Training time in minutes: %.2f' % ((time() - start) / 60))\n",
        "print('\\n')\n",
        "model.summary()\n",
        "keras.utils.vis_utils.pydot = pydot\n",
        "plot_model(model, to_file='Asset_5_Architecture_CNN-BiLSTM-ErrorCode.png')"
      ],
      "execution_count": 36,
      "outputs": [
        {
          "output_type": "display_data",
          "data": {
            "image/png": "[encoded data removed]",
            "text/plain": [
              "<Figure size 864x1152 with 6 Axes>"
            ]
          },
          "metadata": {
            "tags": [],
            "needs_background": "light"
          }
        },
        {
          "output_type": "stream",
          "text": [
            "accuracy\n",
            "\tvalidation       \t (min:    0.876, max:    0.888, cur:    0.881)\n",
            "\ttraining         \t (min:    0.877, max:    0.894, cur:    0.894)\n",
            "f1\n",
            "\tval_f1           \t (min:    0.085, max:    0.087, cur:    0.085)\n",
            "Loss\n",
            "\tvalidation       \t (min:    0.577, max:    0.726, cur:    0.725)\n",
            "\ttraining         \t (min:    0.436, max:    0.649, cur:    0.436)\n",
            "precision\n",
            "\tval_precision    \t (min:    0.081, max:    0.111, cur:    0.081)\n",
            "recall\n",
            "\tval_recall       \t (min:    0.090, max:    0.091, cur:    0.090)\n",
            "Epoch 00051: early stopping\n",
            "\n",
            "\n",
            "Training time in minutes: 4.96\n",
            "\n",
            "\n",
            "Model: \"sequential_1\"\n",
            "_________________________________________________________________\n",
            "Layer (type)                 Output Shape              Param #   \n",
            "=================================================================\n",
            "time_distributed_1 (TimeDist (None, None, 8, 64)       1216      \n",
            "_________________________________________________________________\n",
            "time_distributed_2 (TimeDist (None, None, 6, 64)       12352     \n",
            "_________________________________________________________________\n",
            "time_distributed_3 (TimeDist (None, None, 3, 64)       0         \n",
            "_________________________________________________________________\n",
            "time_distributed_4 (TimeDist (None, None, 192)         0         \n",
            "_________________________________________________________________\n",
            "lstm_1 (LSTM)                (None, 100)               117200    \n",
            "_________________________________________________________________\n",
            "dense_1 (Dense)              (None, 100)               10100     \n",
            "_________________________________________________________________\n",
            "dense_2 (Dense)              (None, 25)                2525      \n",
            "=================================================================\n",
            "Total params: 143,393\n",
            "Trainable params: 143,393\n",
            "Non-trainable params: 0\n",
            "_________________________________________________________________\n"
          ],
          "name": "stdout"
        },
        {
          "output_type": "execute_result",
          "data": {
            "image/png": "[encoded data removed]",
            "text/plain": [
              "<IPython.core.display.Image object>"
            ]
          },
          "metadata": {
            "tags": []
          },
          "execution_count": 36
        }
      ]
    },
    {
      "cell_type": "code",
      "metadata": {
        "id": "Qt-FrDFesalw",
        "colab_type": "code",
        "colab": {
          "base_uri": "https://localhost:8080/",
          "height": 51
        },
        "outputId": "5043c469-bfbf-40af-93db-af6227945012"
      },
      "source": [
        "# Evaluate the model\n",
        "loss, accuracy = model.evaluate(testX, testy, verbose=0)\n",
        "\n",
        "print('Accuracy: %f' % accuracy)\n",
        "print('Loss: %f' % loss)"
      ],
      "execution_count": 37,
      "outputs": [
        {
          "output_type": "stream",
          "text": [
            "Accuracy: 0.872340\n",
            "Loss: 0.773488\n"
          ],
          "name": "stdout"
        }
      ]
    },
    {
      "cell_type": "markdown",
      "metadata": {
        "id": "Nqq_Szcnsalz",
        "colab_type": "text"
      },
      "source": [
        "#### Using trained model to score testX data"
      ]
    },
    {
      "cell_type": "code",
      "metadata": {
        "id": "Q3KluV2Psalz",
        "colab_type": "code",
        "colab": {
          "base_uri": "https://localhost:8080/",
          "height": 34
        },
        "outputId": "bf47abfb-964e-449f-e7c2-15048a335778"
      },
      "source": [
        "testX.shape"
      ],
      "execution_count": 38,
      "outputs": [
        {
          "output_type": "execute_result",
          "data": {
            "text/plain": [
              "(13536, 3, 10, 6)"
            ]
          },
          "metadata": {
            "tags": []
          },
          "execution_count": 38
        }
      ]
    },
    {
      "cell_type": "code",
      "metadata": {
        "id": "oW6zKeOasal2",
        "colab_type": "code",
        "colab": {}
      },
      "source": [
        "# Predict probabilities for test set\n",
        "yhat_probs = model.predict(testX, verbose=0)"
      ],
      "execution_count": 39,
      "outputs": []
    },
    {
      "cell_type": "code",
      "metadata": {
        "id": "VtzySnAlsal5",
        "colab_type": "code",
        "colab": {}
      },
      "source": [
        "yhat_probs_decoded = np.argmax(yhat_probs, axis=-1)"
      ],
      "execution_count": 40,
      "outputs": []
    },
    {
      "cell_type": "code",
      "metadata": {
        "id": "GY-W0krYsal_",
        "colab_type": "code",
        "colab": {
          "base_uri": "https://localhost:8080/",
          "height": 34
        },
        "outputId": "50269434-7511-4aa8-f23d-7b4dce4b5b58"
      },
      "source": [
        "yhat_probs_decoded[:5]"
      ],
      "execution_count": 41,
      "outputs": [
        {
          "output_type": "execute_result",
          "data": {
            "text/plain": [
              "array([9, 9, 9, 9, 9])"
            ]
          },
          "metadata": {
            "tags": []
          },
          "execution_count": 41
        }
      ]
    },
    {
      "cell_type": "markdown",
      "metadata": {
        "id": "ZaQbXG_VsamC",
        "colab_type": "text"
      },
      "source": [
        "yhat_probs_decoded -> Shows the first 5 samples of predicted Error Code classes for testX data."
      ]
    },
    {
      "cell_type": "markdown",
      "metadata": {
        "id": "PO_FxYJjsamD",
        "colab_type": "text"
      },
      "source": [
        "#### ROC AUC Computation"
      ]
    },
    {
      "cell_type": "code",
      "metadata": {
        "id": "bsiR_-SzsamE",
        "colab_type": "code",
        "colab": {
          "base_uri": "https://localhost:8080/",
          "height": 51
        },
        "outputId": "d50769c7-8b32-4fd2-b97a-cdac7972dc53"
      },
      "source": [
        "# ROC AUC Computation\n",
        "# print('ROC AUC Macro: %f' % roc_auc_score(y_true=testy, y_score=yhat_probs, average='macro')) # --> Macro will not work if there's only one class present in y_true.\n",
        "print('ROC AUC Micro: %f' % roc_auc_score(y_true=testy, y_score=yhat_probs, average='micro'))\n",
        "print('ROC AUC Samples: %f' % roc_auc_score(y_true=testy, y_score=yhat_probs, average='samples'))"
      ],
      "execution_count": 42,
      "outputs": [
        {
          "output_type": "stream",
          "text": [
            "ROC AUC Micro: 0.978485\n",
            "ROC AUC Samples: 0.980770\n"
          ],
          "name": "stdout"
        }
      ]
    },
    {
      "cell_type": "markdown",
      "metadata": {
        "id": "5HBKzFLtsamG",
        "colab_type": "text"
      },
      "source": [
        "#### Load Saved Model"
      ]
    },
    {
      "cell_type": "code",
      "metadata": {
        "id": "BNJsGzhQsamH",
        "colab_type": "code",
        "colab": {}
      },
      "source": [
        "from keras.models import load_model\n",
        "custom_obj = {'Metrics':Metrics}\n",
        "\n",
        "model_CNN_BiLSTM = load_model('Asset_5_best_model_CNN-BiLSTM-ErrorCode.h5', custom_objects=custom_obj)"
      ],
      "execution_count": 43,
      "outputs": []
    },
    {
      "cell_type": "markdown",
      "metadata": {
        "id": "ehyPiRsQsamM",
        "colab_type": "text"
      },
      "source": [
        "#### Prediction activity using previous timesteps"
      ]
    },
    {
      "cell_type": "code",
      "metadata": {
        "id": "MtrXROHcsamN",
        "colab_type": "code",
        "colab": {}
      },
      "source": [
        "Asset_5 = pd.read_csv('Asset5_ErrorCode.csv', header=0, index_col=0)\n",
        "Asset_5_x_input = Asset_5.tail(100)"
      ],
      "execution_count": 44,
      "outputs": []
    },
    {
      "cell_type": "code",
      "metadata": {
        "id": "P1fRSbf3samR",
        "colab_type": "code",
        "colab": {}
      },
      "source": [
        "Asset_5_x_input = Asset_5_x_input.drop('ErrorCode', axis=1)"
      ],
      "execution_count": 45,
      "outputs": []
    },
    {
      "cell_type": "code",
      "metadata": {
        "id": "IwJSbeUCsamU",
        "colab_type": "code",
        "colab": {
          "base_uri": "https://localhost:8080/",
          "height": 232
        },
        "outputId": "6dae81cf-92f2-4f84-a257-d70121905989"
      },
      "source": [
        "Asset_5_x_input.head()"
      ],
      "execution_count": 46,
      "outputs": [
        {
          "output_type": "execute_result",
          "data": {
            "text/html": [
              "<div>\n",
              "<style scoped>\n",
              "    .dataframe tbody tr th:only-of-type {\n",
              "        vertical-align: middle;\n",
              "    }\n",
              "\n",
              "    .dataframe tbody tr th {\n",
              "        vertical-align: top;\n",
              "    }\n",
              "\n",
              "    .dataframe thead th {\n",
              "        text-align: right;\n",
              "    }\n",
              "</style>\n",
              "<table border=\"1\" class=\"dataframe\">\n",
              "  <thead>\n",
              "    <tr style=\"text-align: right;\">\n",
              "      <th></th>\n",
              "      <th>FlowTime</th>\n",
              "      <th>Amount</th>\n",
              "      <th>Litres</th>\n",
              "      <th>Voltage</th>\n",
              "      <th>FxRate</th>\n",
              "      <th>FlowRate</th>\n",
              "    </tr>\n",
              "    <tr>\n",
              "      <th>DateTime</th>\n",
              "      <th></th>\n",
              "      <th></th>\n",
              "      <th></th>\n",
              "      <th></th>\n",
              "      <th></th>\n",
              "      <th></th>\n",
              "    </tr>\n",
              "  </thead>\n",
              "  <tbody>\n",
              "    <tr>\n",
              "      <th>2018-07-09 00:33:56</th>\n",
              "      <td>75</td>\n",
              "      <td>9</td>\n",
              "      <td>24.313889</td>\n",
              "      <td>13.12</td>\n",
              "      <td>0.025</td>\n",
              "      <td>19.451111</td>\n",
              "    </tr>\n",
              "    <tr>\n",
              "      <th>2018-07-09 00:35:19</th>\n",
              "      <td>80</td>\n",
              "      <td>10</td>\n",
              "      <td>25.641667</td>\n",
              "      <td>13.12</td>\n",
              "      <td>0.025</td>\n",
              "      <td>19.231250</td>\n",
              "    </tr>\n",
              "    <tr>\n",
              "      <th>2018-07-09 00:49:31</th>\n",
              "      <td>44</td>\n",
              "      <td>5</td>\n",
              "      <td>13.616667</td>\n",
              "      <td>13.12</td>\n",
              "      <td>0.025</td>\n",
              "      <td>18.568182</td>\n",
              "    </tr>\n",
              "    <tr>\n",
              "      <th>2018-07-09 00:54:11</th>\n",
              "      <td>33</td>\n",
              "      <td>4</td>\n",
              "      <td>10.427778</td>\n",
              "      <td>13.12</td>\n",
              "      <td>0.025</td>\n",
              "      <td>18.959596</td>\n",
              "    </tr>\n",
              "    <tr>\n",
              "      <th>2018-07-09 01:00:57</th>\n",
              "      <td>37</td>\n",
              "      <td>5</td>\n",
              "      <td>12.238889</td>\n",
              "      <td>13.12</td>\n",
              "      <td>0.025</td>\n",
              "      <td>19.846847</td>\n",
              "    </tr>\n",
              "  </tbody>\n",
              "</table>\n",
              "</div>"
            ],
            "text/plain": [
              "                     FlowTime  Amount     Litres  Voltage  FxRate   FlowRate\n",
              "DateTime                                                                    \n",
              "2018-07-09 00:33:56        75       9  24.313889    13.12   0.025  19.451111\n",
              "2018-07-09 00:35:19        80      10  25.641667    13.12   0.025  19.231250\n",
              "2018-07-09 00:49:31        44       5  13.616667    13.12   0.025  18.568182\n",
              "2018-07-09 00:54:11        33       4  10.427778    13.12   0.025  18.959596\n",
              "2018-07-09 01:00:57        37       5  12.238889    13.12   0.025  19.846847"
            ]
          },
          "metadata": {
            "tags": []
          },
          "execution_count": 46
        }
      ]
    },
    {
      "cell_type": "code",
      "metadata": {
        "id": "szS51dJmsamW",
        "colab_type": "code",
        "colab": {}
      },
      "source": [
        "Asset_5_x_input = Asset_5_x_input.values"
      ],
      "execution_count": 47,
      "outputs": []
    },
    {
      "cell_type": "code",
      "metadata": {
        "id": "QvJY58NWsamZ",
        "colab_type": "code",
        "colab": {}
      },
      "source": [
        "Asset_5_x_input, _ = split_sequence(Asset_5_x_input, 30)"
      ],
      "execution_count": 48,
      "outputs": []
    },
    {
      "cell_type": "code",
      "metadata": {
        "id": "J209nII_samc",
        "colab_type": "code",
        "colab": {}
      },
      "source": [
        "Asset_5_x_input = Asset_5_x_input.reshape((Asset_5_x_input.shape[0], n_steps, n_length, n_features))"
      ],
      "execution_count": 49,
      "outputs": []
    },
    {
      "cell_type": "code",
      "metadata": {
        "id": "c-ZYtoHNsame",
        "colab_type": "code",
        "colab": {
          "base_uri": "https://localhost:8080/",
          "height": 34
        },
        "outputId": "a441caf2-6476-4e4d-e625-d1f7f9aa285d"
      },
      "source": [
        "print(np.asarray(Asset_5_x_input).shape)"
      ],
      "execution_count": 50,
      "outputs": [
        {
          "output_type": "stream",
          "text": [
            "(70, 3, 10, 6)\n"
          ],
          "name": "stdout"
        }
      ]
    },
    {
      "cell_type": "code",
      "metadata": {
        "id": "6tqRejUOsamj",
        "colab_type": "code",
        "colab": {}
      },
      "source": [
        "Asset_5_x_input = np.array(Asset_5_x_input)"
      ],
      "execution_count": 51,
      "outputs": []
    },
    {
      "cell_type": "markdown",
      "metadata": {
        "id": "tbH_bAQYsamm",
        "colab_type": "text"
      },
      "source": [
        "#### Probabilities of all predictions"
      ]
    },
    {
      "cell_type": "code",
      "metadata": {
        "id": "O-5kYXgAsamm",
        "colab_type": "code",
        "colab": {
          "base_uri": "https://localhost:8080/",
          "height": 242
        },
        "outputId": "513249f9-e910-48b8-a24a-d2c7afe87555"
      },
      "source": [
        "Asset_5_yhat = model_CNN_BiLSTM.predict(Asset_5_x_input, verbose=0)\n",
        "Asset_5_yhat"
      ],
      "execution_count": 52,
      "outputs": [
        {
          "output_type": "execute_result",
          "data": {
            "text/plain": [
              "array([[9.0651410e-11, 4.6185430e-02, 7.6953929e-11, ..., 2.2438353e-11,\n",
              "        4.6808014e-04, 3.1233761e-03],\n",
              "       [1.5024040e-09, 1.4306051e-02, 2.2235453e-09, ..., 9.1483110e-10,\n",
              "        8.2036981e-04, 2.6924694e-03],\n",
              "       [9.2841443e-11, 7.9359310e-03, 1.0491697e-10, ..., 7.2344020e-11,\n",
              "        1.3291507e-04, 9.2909308e-03],\n",
              "       ...,\n",
              "       [9.4034530e-11, 1.6183583e-02, 1.1071947e-10, ..., 4.6154743e-11,\n",
              "        5.8923259e-05, 5.9682797e-03],\n",
              "       [1.2909358e-10, 5.0555305e-03, 1.7402514e-10, ..., 5.5419828e-11,\n",
              "        1.8621063e-04, 4.7697481e-03],\n",
              "       [1.7484338e-12, 6.9090649e-03, 3.4892211e-12, ..., 9.3664594e-13,\n",
              "        6.6661327e-05, 1.6827226e-03]], dtype=float32)"
            ]
          },
          "metadata": {
            "tags": []
          },
          "execution_count": 52
        }
      ]
    },
    {
      "cell_type": "code",
      "metadata": {
        "id": "HMIRhFQZsamq",
        "colab_type": "code",
        "colab": {
          "base_uri": "https://localhost:8080/",
          "height": 34
        },
        "outputId": "44e37c05-ebeb-432b-fe8f-605885542e88"
      },
      "source": [
        "Asset_5_yhat.shape"
      ],
      "execution_count": 53,
      "outputs": [
        {
          "output_type": "execute_result",
          "data": {
            "text/plain": [
              "(70, 25)"
            ]
          },
          "metadata": {
            "tags": []
          },
          "execution_count": 53
        }
      ]
    },
    {
      "cell_type": "markdown",
      "metadata": {
        "id": "sjkkLzmWsamt",
        "colab_type": "text"
      },
      "source": [
        "#### Convert all prediction probabilities to actual Error Codes"
      ]
    },
    {
      "cell_type": "code",
      "metadata": {
        "id": "AGF6m5pSsamt",
        "colab_type": "code",
        "colab": {
          "base_uri": "https://localhost:8080/",
          "height": 34
        },
        "outputId": "7c6b6c9a-b8a2-487b-8c49-a54dd70b0fbb"
      },
      "source": [
        "np.argmax(Asset_5_yhat, axis=-1).shape"
      ],
      "execution_count": 54,
      "outputs": [
        {
          "output_type": "execute_result",
          "data": {
            "text/plain": [
              "(70,)"
            ]
          },
          "metadata": {
            "tags": []
          },
          "execution_count": 54
        }
      ]
    },
    {
      "cell_type": "code",
      "metadata": {
        "id": "OyFoejf9samy",
        "colab_type": "code",
        "colab": {
          "base_uri": "https://localhost:8080/",
          "height": 86
        },
        "outputId": "0cec1938-901d-44b5-c2fa-9ee54d7c2a77"
      },
      "source": [
        "np.argmax(Asset_5_yhat, axis=-1)"
      ],
      "execution_count": 55,
      "outputs": [
        {
          "output_type": "execute_result",
          "data": {
            "text/plain": [
              "array([9, 9, 9, 9, 9, 9, 9, 9, 9, 9, 9, 9, 9, 9, 9, 9, 9, 9, 9, 9, 9, 9,\n",
              "       9, 9, 9, 9, 9, 9, 9, 9, 9, 9, 9, 9, 9, 9, 9, 9, 9, 9, 9, 9, 9, 9,\n",
              "       9, 9, 9, 9, 9, 9, 9, 9, 9, 9, 9, 9, 9, 9, 9, 9, 9, 9, 9, 9, 9, 9,\n",
              "       9, 9, 9, 9])"
            ]
          },
          "metadata": {
            "tags": []
          },
          "execution_count": 55
        }
      ]
    },
    {
      "cell_type": "code",
      "metadata": {
        "id": "zVYsia5_sam0",
        "colab_type": "code",
        "colab": {}
      },
      "source": [
        ""
      ],
      "execution_count": 55,
      "outputs": []
    }
  ]
}