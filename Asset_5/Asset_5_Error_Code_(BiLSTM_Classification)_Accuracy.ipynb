{
  "nbformat": 4,
  "nbformat_minor": 0,
  "metadata": {
    "kernelspec": {
      "display_name": "Python 3",
      "language": "python",
      "name": "python3"
    },
    "language_info": {
      "codemirror_mode": {
        "name": "ipython",
        "version": 3
      },
      "file_extension": ".py",
      "mimetype": "text/x-python",
      "name": "python",
      "nbconvert_exporter": "python",
      "pygments_lexer": "ipython3",
      "version": "3.7.7"
    },
    "colab": {
      "name": "Asset 5 - Error Code (BiLSTM Classification) Accuracy.ipynb",
      "provenance": [],
      "machine_shape": "hm"
    },
    "accelerator": "GPU"
  },
  "cells": [
    {
      "cell_type": "markdown",
      "metadata": {
        "id": "XW9OU_SwrILE",
        "colab_type": "text"
      },
      "source": [
        "#### Asset 5 Error Code -> BiLSTM -> Accuracy"
      ]
    },
    {
      "cell_type": "code",
      "metadata": {
        "id": "nh_jIVPirILF",
        "colab_type": "code",
        "colab": {}
      },
      "source": [
        "from numpy import mean\n",
        "from numpy import std\n",
        "from numpy import dstack\n",
        "import pandas as pd\n",
        "pd.options.mode.chained_assignment = None\n",
        "import random as rn\n",
        "import os\n",
        "import numpy as np\n",
        "from numpy import array\n",
        "from pandas import read_csv\n",
        "from keras.models import Sequential\n",
        "from keras.layers import Dense\n",
        "from keras.layers import LSTM\n",
        "from keras.layers import Flatten\n",
        "from keras.layers import Dropout\n",
        "from keras.layers import Embedding, Bidirectional\n",
        "from keras.layers.convolutional import Conv1D\n",
        "from keras.layers.convolutional import MaxPooling1D\n",
        "from keras.utils import to_categorical\n",
        "from sklearn import preprocessing\n",
        "\n",
        "import tensorflow as tf\n",
        "from keras.utils import to_categorical\n",
        "\n",
        "from time import time\n",
        "import keras\n",
        "from keras import backend as K\n",
        "from keras.utils.vis_utils import plot_model\n",
        "import pydot\n",
        "\n",
        "from sklearn.metrics import accuracy_score\n",
        "from sklearn.model_selection import train_test_split\n",
        "from sklearn.metrics import precision_score\n",
        "from sklearn.metrics import recall_score\n",
        "from sklearn.metrics import f1_score\n",
        "from sklearn.metrics import cohen_kappa_score\n",
        "from sklearn.metrics import roc_auc_score\n",
        "from sklearn.metrics import confusion_matrix\n",
        "from sklearn.metrics import classification_report\n",
        "\n",
        "from livelossplot import PlotLossesKeras\n",
        "from keras.callbacks import ModelCheckpoint, EarlyStopping\n",
        "\n",
        "# Setting Seed for reproducibility.\n",
        "sd = 1 # Here sd means seed.\n",
        "np.random.seed(sd)\n",
        "rn.seed(sd)\n",
        "os.environ['PYTHONHASHSEED']=str(sd)\n",
        "\n",
        "import warnings\n",
        "warnings.filterwarnings('always')\n",
        "\n",
        "import tensorflow.python.util.deprecation as deprecation\n",
        "deprecation._PRINT_DEPRECATION_WARNINGS = False"
      ],
      "execution_count": 36,
      "outputs": []
    },
    {
      "cell_type": "code",
      "metadata": {
        "id": "6Rljw7wZrILK",
        "colab_type": "code",
        "colab": {}
      },
      "source": [
        "df_5 = pd.read_csv('Asset5_ErrorCode.csv')"
      ],
      "execution_count": 37,
      "outputs": []
    },
    {
      "cell_type": "code",
      "metadata": {
        "id": "Qew9xMPjrILO",
        "colab_type": "code",
        "colab": {}
      },
      "source": [
        "df_5 = df_5.copy()"
      ],
      "execution_count": 38,
      "outputs": []
    },
    {
      "cell_type": "code",
      "metadata": {
        "id": "davlIHHtrILS",
        "colab_type": "code",
        "colab": {
          "base_uri": "https://localhost:8080/",
          "height": 202
        },
        "outputId": "30f4accb-b740-484b-d826-8d5496716425"
      },
      "source": [
        "df_5.head()"
      ],
      "execution_count": 39,
      "outputs": [
        {
          "output_type": "execute_result",
          "data": {
            "text/html": [
              "<div>\n",
              "<style scoped>\n",
              "    .dataframe tbody tr th:only-of-type {\n",
              "        vertical-align: middle;\n",
              "    }\n",
              "\n",
              "    .dataframe tbody tr th {\n",
              "        vertical-align: top;\n",
              "    }\n",
              "\n",
              "    .dataframe thead th {\n",
              "        text-align: right;\n",
              "    }\n",
              "</style>\n",
              "<table border=\"1\" class=\"dataframe\">\n",
              "  <thead>\n",
              "    <tr style=\"text-align: right;\">\n",
              "      <th></th>\n",
              "      <th>DateTime</th>\n",
              "      <th>ErrorCode</th>\n",
              "      <th>FlowTime</th>\n",
              "      <th>Amount</th>\n",
              "      <th>Litres</th>\n",
              "      <th>Voltage</th>\n",
              "      <th>FxRate</th>\n",
              "      <th>FlowRate</th>\n",
              "    </tr>\n",
              "  </thead>\n",
              "  <tbody>\n",
              "    <tr>\n",
              "      <th>0</th>\n",
              "      <td>2004-01-01 01:35:09</td>\n",
              "      <td>9</td>\n",
              "      <td>66</td>\n",
              "      <td>19</td>\n",
              "      <td>32.391667</td>\n",
              "      <td>5.578702</td>\n",
              "      <td>0.025</td>\n",
              "      <td>29.446970</td>\n",
              "    </tr>\n",
              "    <tr>\n",
              "      <th>1</th>\n",
              "      <td>2004-01-01 01:38:00</td>\n",
              "      <td>9</td>\n",
              "      <td>22</td>\n",
              "      <td>6</td>\n",
              "      <td>10.547222</td>\n",
              "      <td>5.578702</td>\n",
              "      <td>0.025</td>\n",
              "      <td>28.765152</td>\n",
              "    </tr>\n",
              "    <tr>\n",
              "      <th>2</th>\n",
              "      <td>2004-01-01 01:39:02</td>\n",
              "      <td>9</td>\n",
              "      <td>2</td>\n",
              "      <td>0</td>\n",
              "      <td>0.444444</td>\n",
              "      <td>5.578702</td>\n",
              "      <td>0.025</td>\n",
              "      <td>13.333333</td>\n",
              "    </tr>\n",
              "    <tr>\n",
              "      <th>3</th>\n",
              "      <td>2004-01-01 03:38:07</td>\n",
              "      <td>9</td>\n",
              "      <td>2</td>\n",
              "      <td>0</td>\n",
              "      <td>0.422222</td>\n",
              "      <td>5.578702</td>\n",
              "      <td>0.025</td>\n",
              "      <td>12.666667</td>\n",
              "    </tr>\n",
              "    <tr>\n",
              "      <th>4</th>\n",
              "      <td>2004-01-01 03:39:09</td>\n",
              "      <td>9</td>\n",
              "      <td>42</td>\n",
              "      <td>12</td>\n",
              "      <td>19.869444</td>\n",
              "      <td>5.578702</td>\n",
              "      <td>0.025</td>\n",
              "      <td>28.384921</td>\n",
              "    </tr>\n",
              "  </tbody>\n",
              "</table>\n",
              "</div>"
            ],
            "text/plain": [
              "              DateTime  ErrorCode  FlowTime  ...   Voltage  FxRate   FlowRate\n",
              "0  2004-01-01 01:35:09          9        66  ...  5.578702   0.025  29.446970\n",
              "1  2004-01-01 01:38:00          9        22  ...  5.578702   0.025  28.765152\n",
              "2  2004-01-01 01:39:02          9         2  ...  5.578702   0.025  13.333333\n",
              "3  2004-01-01 03:38:07          9         2  ...  5.578702   0.025  12.666667\n",
              "4  2004-01-01 03:39:09          9        42  ...  5.578702   0.025  28.384921\n",
              "\n",
              "[5 rows x 8 columns]"
            ]
          },
          "metadata": {
            "tags": []
          },
          "execution_count": 39
        }
      ]
    },
    {
      "cell_type": "markdown",
      "metadata": {
        "id": "UY0HN7gFrILV",
        "colab_type": "text"
      },
      "source": [
        "#### Check unique Error Code values"
      ]
    },
    {
      "cell_type": "code",
      "metadata": {
        "id": "y_jl5yzzrILW",
        "colab_type": "code",
        "colab": {
          "base_uri": "https://localhost:8080/",
          "height": 277
        },
        "outputId": "d6b7ec17-fbc3-4b9b-f41e-fce3a843c281"
      },
      "source": [
        "df_5.ErrorCode.value_counts()"
      ],
      "execution_count": 40,
      "outputs": [
        {
          "output_type": "execute_result",
          "data": {
            "text/plain": [
              "9     39797\n",
              "17     1276\n",
              "6      1070\n",
              "5       723\n",
              "24      704\n",
              "1       638\n",
              "14      506\n",
              "16      245\n",
              "15      206\n",
              "11       27\n",
              "18       21\n",
              "23        5\n",
              "7         1\n",
              "2         1\n",
              "Name: ErrorCode, dtype: int64"
            ]
          },
          "metadata": {
            "tags": []
          },
          "execution_count": 40
        }
      ]
    },
    {
      "cell_type": "code",
      "metadata": {
        "id": "UpcuQGtLrILa",
        "colab_type": "code",
        "colab": {
          "base_uri": "https://localhost:8080/",
          "height": 34
        },
        "outputId": "fe2bc8b6-7fc4-45fa-a102-397052c17961"
      },
      "source": [
        "df_5.ErrorCode.nunique()"
      ],
      "execution_count": 41,
      "outputs": [
        {
          "output_type": "execute_result",
          "data": {
            "text/plain": [
              "14"
            ]
          },
          "metadata": {
            "tags": []
          },
          "execution_count": 41
        }
      ]
    },
    {
      "cell_type": "markdown",
      "metadata": {
        "id": "36uahUxBrILf",
        "colab_type": "text"
      },
      "source": [
        "#### Remove the single occurences of Error Code to ensure proper class balance in each data split"
      ]
    },
    {
      "cell_type": "code",
      "metadata": {
        "id": "qOdbgHbtrILg",
        "colab_type": "code",
        "colab": {}
      },
      "source": [
        "df_5 = df_5[df_5.ErrorCode != 7]"
      ],
      "execution_count": 42,
      "outputs": []
    },
    {
      "cell_type": "code",
      "metadata": {
        "id": "rrmq8nverILl",
        "colab_type": "code",
        "colab": {}
      },
      "source": [
        "df_5 = df_5[df_5.ErrorCode != 2]"
      ],
      "execution_count": 43,
      "outputs": []
    },
    {
      "cell_type": "code",
      "metadata": {
        "id": "Hod293czrILo",
        "colab_type": "code",
        "colab": {
          "base_uri": "https://localhost:8080/",
          "height": 34
        },
        "outputId": "6ee2b013-48ac-4eb4-b680-6100527025cd"
      },
      "source": [
        "df_5.ErrorCode.nunique()"
      ],
      "execution_count": 44,
      "outputs": [
        {
          "output_type": "execute_result",
          "data": {
            "text/plain": [
              "12"
            ]
          },
          "metadata": {
            "tags": []
          },
          "execution_count": 44
        }
      ]
    },
    {
      "cell_type": "markdown",
      "metadata": {
        "id": "KyRzNzWbrILr",
        "colab_type": "text"
      },
      "source": [
        "#### Split Train/Test data from main Asset file"
      ]
    },
    {
      "cell_type": "code",
      "metadata": {
        "id": "zsEKLe0IrILr",
        "colab_type": "code",
        "colab": {}
      },
      "source": [
        "train, test = train_test_split(df_5, test_size=0.3, random_state=42, shuffle=True)"
      ],
      "execution_count": 45,
      "outputs": []
    },
    {
      "cell_type": "code",
      "metadata": {
        "id": "a6HYo9HqrILu",
        "colab_type": "code",
        "colab": {}
      },
      "source": [
        "train = train.set_index('DateTime')\n",
        "test = test.set_index('DateTime')"
      ],
      "execution_count": 46,
      "outputs": []
    },
    {
      "cell_type": "code",
      "metadata": {
        "id": "cX8-GpUHrILy",
        "colab_type": "code",
        "colab": {
          "base_uri": "https://localhost:8080/",
          "height": 34
        },
        "outputId": "c81f60af-07d0-4ba5-a1c2-9b09712af0fb"
      },
      "source": [
        "train.shape, test.shape"
      ],
      "execution_count": 47,
      "outputs": [
        {
          "output_type": "execute_result",
          "data": {
            "text/plain": [
              "((31652, 7), (13566, 7))"
            ]
          },
          "metadata": {
            "tags": []
          },
          "execution_count": 47
        }
      ]
    },
    {
      "cell_type": "code",
      "metadata": {
        "id": "4OLmICQDrIL1",
        "colab_type": "code",
        "colab": {}
      },
      "source": [
        "trainX = train.drop('ErrorCode', axis=1)\n",
        "testX = test.drop('ErrorCode', axis=1)"
      ],
      "execution_count": 48,
      "outputs": []
    },
    {
      "cell_type": "code",
      "metadata": {
        "id": "1insY-2_rIL4",
        "colab_type": "code",
        "colab": {}
      },
      "source": [
        "trainy = train.drop(['FlowTime', 'Amount', 'Litres', 'Voltage', 'FxRate', 'FlowRate'], axis=1)\n",
        "testy = test.drop(['FlowTime', 'Amount', 'Litres', 'Voltage', 'FxRate', 'FlowRate'], axis=1)"
      ],
      "execution_count": 49,
      "outputs": []
    },
    {
      "cell_type": "code",
      "metadata": {
        "id": "Llh9k9GXrIL7",
        "colab_type": "code",
        "colab": {
          "base_uri": "https://localhost:8080/",
          "height": 34
        },
        "outputId": "fcacaddc-6876-4e06-a27e-d06a0b4b8069"
      },
      "source": [
        "trainX.shape, trainy.shape"
      ],
      "execution_count": 50,
      "outputs": [
        {
          "output_type": "execute_result",
          "data": {
            "text/plain": [
              "((31652, 6), (31652, 1))"
            ]
          },
          "metadata": {
            "tags": []
          },
          "execution_count": 50
        }
      ]
    },
    {
      "cell_type": "code",
      "metadata": {
        "id": "CVsXrjofrIL9",
        "colab_type": "code",
        "colab": {
          "base_uri": "https://localhost:8080/",
          "height": 34
        },
        "outputId": "39feb165-fd50-4838-e9a2-a5b1b86edb74"
      },
      "source": [
        "testX.shape, testy.shape"
      ],
      "execution_count": 51,
      "outputs": [
        {
          "output_type": "execute_result",
          "data": {
            "text/plain": [
              "((13566, 6), (13566, 1))"
            ]
          },
          "metadata": {
            "tags": []
          },
          "execution_count": 51
        }
      ]
    },
    {
      "cell_type": "markdown",
      "metadata": {
        "id": "Olgc9ay_rIMB",
        "colab_type": "text"
      },
      "source": [
        "#### Split data to obtain Validation data set (20 % used as validation)"
      ]
    },
    {
      "cell_type": "code",
      "metadata": {
        "id": "M1Yh0C5hrIMB",
        "colab_type": "code",
        "colab": {}
      },
      "source": [
        "trainX, valX, trainy, valy = train_test_split(trainX, trainy, test_size=0.2, random_state=32, shuffle=True)"
      ],
      "execution_count": 52,
      "outputs": []
    },
    {
      "cell_type": "code",
      "metadata": {
        "id": "M6qPSpK3rIME",
        "colab_type": "code",
        "colab": {
          "base_uri": "https://localhost:8080/",
          "height": 0
        },
        "outputId": "a1c73f38-dd0c-49c1-fb1f-e1d821cf9dd8"
      },
      "source": [
        "valX.shape, valy.shape"
      ],
      "execution_count": 53,
      "outputs": [
        {
          "output_type": "execute_result",
          "data": {
            "text/plain": [
              "((6331, 6), (6331, 1))"
            ]
          },
          "metadata": {
            "tags": []
          },
          "execution_count": 53
        }
      ]
    },
    {
      "cell_type": "markdown",
      "metadata": {
        "id": "03WiRnUtrIMH",
        "colab_type": "text"
      },
      "source": [
        "#### Check if the number of classes look similar to earlier results"
      ]
    },
    {
      "cell_type": "code",
      "metadata": {
        "id": "O4rM_9yYrIMH",
        "colab_type": "code",
        "colab": {
          "base_uri": "https://localhost:8080/",
          "height": 0
        },
        "outputId": "0f344c54-90a7-4c43-cbba-0cfa7f1cf464"
      },
      "source": [
        "valy.ErrorCode.unique()"
      ],
      "execution_count": 54,
      "outputs": [
        {
          "output_type": "execute_result",
          "data": {
            "text/plain": [
              "array([ 9,  5, 24,  6, 14, 16,  1, 15, 17, 11, 18])"
            ]
          },
          "metadata": {
            "tags": []
          },
          "execution_count": 54
        }
      ]
    },
    {
      "cell_type": "code",
      "metadata": {
        "id": "LdYRzWqerIML",
        "colab_type": "code",
        "colab": {
          "base_uri": "https://localhost:8080/",
          "height": 0
        },
        "outputId": "5127ad94-d4db-48db-85e5-5300b432345b"
      },
      "source": [
        "valy.ErrorCode.nunique()"
      ],
      "execution_count": 55,
      "outputs": [
        {
          "output_type": "execute_result",
          "data": {
            "text/plain": [
              "11"
            ]
          },
          "metadata": {
            "tags": []
          },
          "execution_count": 55
        }
      ]
    },
    {
      "cell_type": "markdown",
      "metadata": {
        "id": "Pv3Zf3MArIMO",
        "colab_type": "text"
      },
      "source": [
        "#### Convert all classes in all data splits to categorical"
      ]
    },
    {
      "cell_type": "code",
      "metadata": {
        "id": "M2uvzlYDrIMO",
        "colab_type": "code",
        "colab": {}
      },
      "source": [
        "trainy = to_categorical(trainy)\n",
        "testy = to_categorical(testy)\n",
        "valy = to_categorical(valy)"
      ],
      "execution_count": 56,
      "outputs": []
    },
    {
      "cell_type": "code",
      "metadata": {
        "id": "5nJqWHRgrIMR",
        "colab_type": "code",
        "colab": {
          "base_uri": "https://localhost:8080/",
          "height": 0
        },
        "outputId": "afe1ad45-d2ae-4448-8034-1eab4a0ffac7"
      },
      "source": [
        "trainy.shape, testy.shape, valy.shape"
      ],
      "execution_count": 57,
      "outputs": [
        {
          "output_type": "execute_result",
          "data": {
            "text/plain": [
              "((25321, 25), (13566, 25), (6331, 25))"
            ]
          },
          "metadata": {
            "tags": []
          },
          "execution_count": 57
        }
      ]
    },
    {
      "cell_type": "markdown",
      "metadata": {
        "id": "c2-OPtg3rIMW",
        "colab_type": "text"
      },
      "source": [
        "#### Helper function to split data into suitable timesteps (30 timesteps/hours are used) "
      ]
    },
    {
      "cell_type": "code",
      "metadata": {
        "id": "9P4zmoFRrIMX",
        "colab_type": "code",
        "colab": {}
      },
      "source": [
        "def split_sequence(sequence, n_steps):\n",
        "    X, y = list(), list()\n",
        "    for i in range(len(sequence)):\n",
        "        end_ix = i + n_steps\n",
        "        if end_ix > len(sequence)-1:\n",
        "            break\n",
        "        seq_x, seq_y = sequence[i:end_ix], sequence[end_ix]\n",
        "        X.append(seq_x)\n",
        "        y.append(seq_y)\n",
        "    return array(X), array(y)"
      ],
      "execution_count": 58,
      "outputs": []
    },
    {
      "cell_type": "markdown",
      "metadata": {
        "id": "-YKX_7iwrIMb",
        "colab_type": "text"
      },
      "source": [
        "#### Train data splitting"
      ]
    },
    {
      "cell_type": "code",
      "metadata": {
        "id": "BQiHny11rIMb",
        "colab_type": "code",
        "colab": {}
      },
      "source": [
        "trainX = np.array(trainX) \n",
        "trainy = np.array(trainy)"
      ],
      "execution_count": 59,
      "outputs": []
    },
    {
      "cell_type": "code",
      "metadata": {
        "id": "d1w22DJcrIMg",
        "colab_type": "code",
        "colab": {}
      },
      "source": [
        "trainX, _ = split_sequence(trainX, 30)\n",
        "_, trainy = split_sequence(trainy, 30)"
      ],
      "execution_count": 60,
      "outputs": []
    },
    {
      "cell_type": "code",
      "metadata": {
        "id": "mveTbrkErIMm",
        "colab_type": "code",
        "colab": {
          "base_uri": "https://localhost:8080/",
          "height": 0
        },
        "outputId": "e189945c-6e72-4350-c3b8-0fa180cd7e25"
      },
      "source": [
        "trainX.shape, trainy.shape"
      ],
      "execution_count": 61,
      "outputs": [
        {
          "output_type": "execute_result",
          "data": {
            "text/plain": [
              "((25291, 30, 6), (25291, 25))"
            ]
          },
          "metadata": {
            "tags": []
          },
          "execution_count": 61
        }
      ]
    },
    {
      "cell_type": "markdown",
      "metadata": {
        "id": "e4lJ_ku1rIMp",
        "colab_type": "text"
      },
      "source": [
        "#### Test data splitting"
      ]
    },
    {
      "cell_type": "code",
      "metadata": {
        "id": "xtst0AV5rIMq",
        "colab_type": "code",
        "colab": {}
      },
      "source": [
        "testX = np.array(testX) \n",
        "testy = np.array(testy)"
      ],
      "execution_count": 62,
      "outputs": []
    },
    {
      "cell_type": "code",
      "metadata": {
        "id": "o5HWLP3orIMu",
        "colab_type": "code",
        "colab": {}
      },
      "source": [
        "testX, _ = split_sequence(testX, 30)\n",
        "_, testy = split_sequence(testy, 30)"
      ],
      "execution_count": 63,
      "outputs": []
    },
    {
      "cell_type": "code",
      "metadata": {
        "id": "9S01lTa3rIMz",
        "colab_type": "code",
        "colab": {
          "base_uri": "https://localhost:8080/",
          "height": 0
        },
        "outputId": "ba92941b-9f31-4dcf-eea4-bb1bfa4d0e77"
      },
      "source": [
        "testX.shape, testy.shape"
      ],
      "execution_count": 64,
      "outputs": [
        {
          "output_type": "execute_result",
          "data": {
            "text/plain": [
              "((13536, 30, 6), (13536, 25))"
            ]
          },
          "metadata": {
            "tags": []
          },
          "execution_count": 64
        }
      ]
    },
    {
      "cell_type": "markdown",
      "metadata": {
        "id": "pnjT0a2WrIM6",
        "colab_type": "text"
      },
      "source": [
        "#### Validation data splitting"
      ]
    },
    {
      "cell_type": "code",
      "metadata": {
        "id": "8TCpU_oDrIM7",
        "colab_type": "code",
        "colab": {}
      },
      "source": [
        "valX = np.array(valX) \n",
        "valy = np.array(valy)"
      ],
      "execution_count": 65,
      "outputs": []
    },
    {
      "cell_type": "code",
      "metadata": {
        "id": "lQA40T6YrIM9",
        "colab_type": "code",
        "colab": {}
      },
      "source": [
        "valX, _ = split_sequence(valX, 30)\n",
        "_, valy = split_sequence(valy, 30)"
      ],
      "execution_count": 66,
      "outputs": []
    },
    {
      "cell_type": "code",
      "metadata": {
        "id": "a7R4FbKHrINB",
        "colab_type": "code",
        "colab": {
          "base_uri": "https://localhost:8080/",
          "height": 0
        },
        "outputId": "26e739aa-59cc-4f92-f8cf-395132c850ca"
      },
      "source": [
        "valX.shape, valy.shape"
      ],
      "execution_count": 67,
      "outputs": [
        {
          "output_type": "execute_result",
          "data": {
            "text/plain": [
              "((6301, 30, 6), (6301, 25))"
            ]
          },
          "metadata": {
            "tags": []
          },
          "execution_count": 67
        }
      ]
    },
    {
      "cell_type": "markdown",
      "metadata": {
        "id": "m5gudN-WrINF",
        "colab_type": "text"
      },
      "source": [
        "#### Custom Keras metric to calculate Recall, Precision and F1 Score"
      ]
    },
    {
      "cell_type": "code",
      "metadata": {
        "id": "jWGaMkzFrING",
        "colab_type": "code",
        "colab": {}
      },
      "source": [
        "class Metrics(tf.keras.callbacks.Callback):\n",
        "    \n",
        "    def __init__(self, valid_data):\n",
        "        super(Metrics, self).__init__()\n",
        "        self.validation_data = valid_data\n",
        "\n",
        "    def on_epoch_end(self, epoch, logs=None):\n",
        "        logs = logs or {}\n",
        "        val_predict = np.argmax(self.model.predict(self.validation_data[0]), -1)\n",
        "        val_targ = self.validation_data[1]\n",
        "        if len(val_targ.shape) == 2 and val_targ.shape[1] != 1:\n",
        "            val_targ = np.argmax(val_targ, -1)\n",
        "\n",
        "        _val_f1 = f1_score(val_targ, val_predict, average='macro')\n",
        "        _val_recall = recall_score(val_targ, val_predict, average='macro')\n",
        "        _val_precision = precision_score(val_targ, val_predict, average='macro')\n",
        "\n",
        "        logs['val_f1'] = _val_f1\n",
        "        logs['val_recall'] = _val_recall\n",
        "        logs['val_precision'] = _val_precision\n",
        "        print(\" — val_f1: %f — val_precision: %f — val_recall: %f\" % (_val_f1, _val_precision, _val_recall))\n",
        "        return"
      ],
      "execution_count": 68,
      "outputs": []
    },
    {
      "cell_type": "markdown",
      "metadata": {
        "id": "Fy_EK9pPrINK",
        "colab_type": "text"
      },
      "source": [
        "#### Define model architecture"
      ]
    },
    {
      "cell_type": "code",
      "metadata": {
        "id": "AVdHD_TXrINL",
        "colab_type": "code",
        "colab": {
          "base_uri": "https://localhost:8080/",
          "height": 1000
        },
        "outputId": "a6cf144f-e28e-4cf9-ef31-437f528504bd"
      },
      "source": [
        "verbose, epochs, batch_size = 1, 200, 64\n",
        "n_nodes = 100\n",
        "\n",
        "n_timesteps, n_features, n_outputs = trainX.shape[1], trainX.shape[2], trainy.shape[1]\n",
        "\n",
        "# Early stopping and Model checkpointing\n",
        "es = EarlyStopping(monitor='val_f1', mode='max', verbose=1, patience=50, min_delta=1)\n",
        "mc = ModelCheckpoint('Asset_5_best_model_BiLSTM-ErrorCode.h5', monitor='val_f1', mode='max', verbose=1, save_best_only=True)\n",
        "\n",
        "model = Sequential()\n",
        "model.add(Bidirectional(LSTM(n_nodes, activation='relu', return_sequences=True, input_shape=(n_timesteps, n_features))))\n",
        "model.add(Bidirectional(LSTM(n_nodes, activation='relu')))\n",
        "model.add(Dense(n_nodes, activation='relu'))\n",
        "model.add(Dense(n_outputs, activation='softmax'))\n",
        "\n",
        "# Compile model\n",
        "model.compile(optimizer='adam', loss='categorical_crossentropy', metrics=['accuracy'])\n",
        "\n",
        "# Fit network\n",
        "start = time()\n",
        "\n",
        "model.fit(trainX, trainy, validation_data=(valX, valy), epochs=epochs, batch_size=batch_size, verbose=verbose, \n",
        "          callbacks=[Metrics(valid_data=(valX, valy)), es, mc, PlotLossesKeras()])\n",
        "\n",
        "print('\\n')\n",
        "print('Training time in minutes: %.2f' % ((time() - start) / 60))\n",
        "print('\\n')\n",
        "model.summary()\n",
        "keras.utils.vis_utils.pydot = pydot\n",
        "plot_model(model, to_file='Asset_5_Architecture_BiLSTM-ErrorCode.png')"
      ],
      "execution_count": 69,
      "outputs": [
        {
          "output_type": "display_data",
          "data": {
            "image/png": "[encoded data removed]",
            "text/plain": [
              "<Figure size 864x1152 with 6 Axes>"
            ]
          },
          "metadata": {
            "tags": [],
            "needs_background": "light"
          }
        },
        {
          "output_type": "stream",
          "text": [
            "accuracy\n",
            "\tvalidation       \t (min:    0.407, max:    0.888, cur:    0.888)\n",
            "\ttraining         \t (min:    0.752, max:    0.879, cur:    0.879)\n",
            "f1\n",
            "\tval_f1           \t (min:    0.058, max:    0.090, cur:    0.085)\n",
            "Loss\n",
            "\tvalidation       \t (min:    0.578, max: 1573.351, cur:    0.578)\n",
            "\ttraining         \t (min:    0.611, max: 6807.710, cur:    0.612)\n",
            "precision\n",
            "\tval_precision    \t (min:    0.080, max:    0.103, cur:    0.081)\n",
            "recall\n",
            "\tval_recall       \t (min:    0.061, max:    0.100, cur:    0.091)\n",
            "Epoch 00051: early stopping\n",
            "\n",
            "\n",
            "Training time in minutes: 85.08\n",
            "\n",
            "\n",
            "Model: \"sequential_2\"\n",
            "_________________________________________________________________\n",
            "Layer (type)                 Output Shape              Param #   \n",
            "=================================================================\n",
            "bidirectional_3 (Bidirection (None, 30, 200)           85600     \n",
            "_________________________________________________________________\n",
            "bidirectional_4 (Bidirection (None, 200)               240800    \n",
            "_________________________________________________________________\n",
            "dense_3 (Dense)              (None, 100)               20100     \n",
            "_________________________________________________________________\n",
            "dense_4 (Dense)              (None, 25)                2525      \n",
            "=================================================================\n",
            "Total params: 349,025\n",
            "Trainable params: 349,025\n",
            "Non-trainable params: 0\n",
            "_________________________________________________________________\n"
          ],
          "name": "stdout"
        },
        {
          "output_type": "execute_result",
          "data": {
            "image/png": "[encoded data removed]",
            "text/plain": [
              "<IPython.core.display.Image object>"
            ]
          },
          "metadata": {
            "tags": []
          },
          "execution_count": 69
        }
      ]
    },
    {
      "cell_type": "code",
      "metadata": {
        "id": "e_rhfESyrINQ",
        "colab_type": "code",
        "colab": {
          "base_uri": "https://localhost:8080/",
          "height": 51
        },
        "outputId": "b3c4194e-36f0-4035-9383-3ecc82bc0c94"
      },
      "source": [
        "# Evaluate the model\n",
        "loss, accuracy = model.evaluate(testX, testy, verbose=0)\n",
        "\n",
        "print('Accuracy: %f' % accuracy)\n",
        "print('Loss: %f' % loss)"
      ],
      "execution_count": 70,
      "outputs": [
        {
          "output_type": "stream",
          "text": [
            "Accuracy: 0.879137\n",
            "Loss: 0.607421\n"
          ],
          "name": "stdout"
        }
      ]
    },
    {
      "cell_type": "markdown",
      "metadata": {
        "id": "8aYDj3oTrINU",
        "colab_type": "text"
      },
      "source": [
        "#### Using trained model to score testX data"
      ]
    },
    {
      "cell_type": "code",
      "metadata": {
        "id": "Pr9Ol1WMrINV",
        "colab_type": "code",
        "colab": {
          "base_uri": "https://localhost:8080/",
          "height": 0
        },
        "outputId": "4b1555cd-3098-4982-827f-8997bc80d218"
      },
      "source": [
        "testX.shape"
      ],
      "execution_count": 71,
      "outputs": [
        {
          "output_type": "execute_result",
          "data": {
            "text/plain": [
              "(13536, 30, 6)"
            ]
          },
          "metadata": {
            "tags": []
          },
          "execution_count": 71
        }
      ]
    },
    {
      "cell_type": "code",
      "metadata": {
        "id": "3nSBoLcerINX",
        "colab_type": "code",
        "colab": {}
      },
      "source": [
        "# Predict probabilities for test set\n",
        "yhat_probs = model.predict(testX, verbose=0)"
      ],
      "execution_count": 72,
      "outputs": []
    },
    {
      "cell_type": "code",
      "metadata": {
        "id": "N5GLh1_TrINa",
        "colab_type": "code",
        "colab": {}
      },
      "source": [
        "yhat_probs_decoded = np.argmax(yhat_probs, axis=-1)"
      ],
      "execution_count": 73,
      "outputs": []
    },
    {
      "cell_type": "code",
      "metadata": {
        "id": "j5RJP-6OrINe",
        "colab_type": "code",
        "colab": {
          "base_uri": "https://localhost:8080/",
          "height": 0
        },
        "outputId": "9a3fa30f-5100-4295-a9c7-30051076fbbf"
      },
      "source": [
        "yhat_probs_decoded[:5]"
      ],
      "execution_count": 74,
      "outputs": [
        {
          "output_type": "execute_result",
          "data": {
            "text/plain": [
              "array([9, 9, 9, 9, 9])"
            ]
          },
          "metadata": {
            "tags": []
          },
          "execution_count": 74
        }
      ]
    },
    {
      "cell_type": "markdown",
      "metadata": {
        "id": "xeYYyjC6rINm",
        "colab_type": "text"
      },
      "source": [
        "yhat_probs_decoded -> Shows the first 5 samples of predicted Error Code classes for testX data."
      ]
    },
    {
      "cell_type": "markdown",
      "metadata": {
        "id": "ERhCep7HrINm",
        "colab_type": "text"
      },
      "source": [
        "#### ROC AUC Computation"
      ]
    },
    {
      "cell_type": "code",
      "metadata": {
        "id": "NtHgbYhnrINn",
        "colab_type": "code",
        "colab": {
          "base_uri": "https://localhost:8080/",
          "height": 0
        },
        "outputId": "33707ae4-1240-4479-9cb8-ab1a76d0e063"
      },
      "source": [
        "# ROC AUC Computation\n",
        "#print('ROC AUC Macro: %f' % roc_auc_score(y_true=testy, y_score=yhat_probs, average='macro')) # --> Macro will not work if there's only one class present in y_true.\n",
        "print('ROC AUC Micro: %f' % roc_auc_score(y_true=testy, y_score=yhat_probs, average='micro'))\n",
        "print('ROC AUC Samples: %f' % roc_auc_score(y_true=testy, y_score=yhat_probs, average='samples'))"
      ],
      "execution_count": 75,
      "outputs": [
        {
          "output_type": "stream",
          "text": [
            "ROC AUC Micro: 0.983225\n",
            "ROC AUC Samples: 0.983221\n"
          ],
          "name": "stdout"
        }
      ]
    },
    {
      "cell_type": "markdown",
      "metadata": {
        "id": "ed8MfKylrINq",
        "colab_type": "text"
      },
      "source": [
        "#### Load Saved Model"
      ]
    },
    {
      "cell_type": "code",
      "metadata": {
        "id": "0NeWkImbrINs",
        "colab_type": "code",
        "colab": {}
      },
      "source": [
        "from keras.models import load_model\n",
        "custom_obj = {'Metrics':Metrics}\n",
        "\n",
        "model_BiLSTM = load_model('Asset_5_best_model_BiLSTM-ErrorCode.h5', custom_objects=custom_obj)"
      ],
      "execution_count": 76,
      "outputs": []
    },
    {
      "cell_type": "markdown",
      "metadata": {
        "id": "MQbkqtUyrINv",
        "colab_type": "text"
      },
      "source": [
        "#### Prediction activity using previous timesteps"
      ]
    },
    {
      "cell_type": "code",
      "metadata": {
        "id": "uh7KQEJ8rINv",
        "colab_type": "code",
        "colab": {}
      },
      "source": [
        "Asset_5 = pd.read_csv('Asset5_ErrorCode.csv', header=0, index_col=0)\n",
        "Asset_5_x_input = Asset_5.tail(100)"
      ],
      "execution_count": 77,
      "outputs": []
    },
    {
      "cell_type": "code",
      "metadata": {
        "id": "uNeaOgGrrIN0",
        "colab_type": "code",
        "colab": {}
      },
      "source": [
        "Asset_5_x_input = Asset_5_x_input.drop('ErrorCode', axis=1)"
      ],
      "execution_count": 78,
      "outputs": []
    },
    {
      "cell_type": "code",
      "metadata": {
        "id": "oSuYr_93rIN6",
        "colab_type": "code",
        "colab": {
          "base_uri": "https://localhost:8080/",
          "height": 0
        },
        "outputId": "1e84ffd2-56f1-4639-8c79-ba2c06a6f936"
      },
      "source": [
        "Asset_5_x_input.head()"
      ],
      "execution_count": 79,
      "outputs": [
        {
          "output_type": "execute_result",
          "data": {
            "text/html": [
              "<div>\n",
              "<style scoped>\n",
              "    .dataframe tbody tr th:only-of-type {\n",
              "        vertical-align: middle;\n",
              "    }\n",
              "\n",
              "    .dataframe tbody tr th {\n",
              "        vertical-align: top;\n",
              "    }\n",
              "\n",
              "    .dataframe thead th {\n",
              "        text-align: right;\n",
              "    }\n",
              "</style>\n",
              "<table border=\"1\" class=\"dataframe\">\n",
              "  <thead>\n",
              "    <tr style=\"text-align: right;\">\n",
              "      <th></th>\n",
              "      <th>FlowTime</th>\n",
              "      <th>Amount</th>\n",
              "      <th>Litres</th>\n",
              "      <th>Voltage</th>\n",
              "      <th>FxRate</th>\n",
              "      <th>FlowRate</th>\n",
              "    </tr>\n",
              "    <tr>\n",
              "      <th>DateTime</th>\n",
              "      <th></th>\n",
              "      <th></th>\n",
              "      <th></th>\n",
              "      <th></th>\n",
              "      <th></th>\n",
              "      <th></th>\n",
              "    </tr>\n",
              "  </thead>\n",
              "  <tbody>\n",
              "    <tr>\n",
              "      <th>2018-07-09 00:33:56</th>\n",
              "      <td>75</td>\n",
              "      <td>9</td>\n",
              "      <td>24.313889</td>\n",
              "      <td>13.12</td>\n",
              "      <td>0.025</td>\n",
              "      <td>19.451111</td>\n",
              "    </tr>\n",
              "    <tr>\n",
              "      <th>2018-07-09 00:35:19</th>\n",
              "      <td>80</td>\n",
              "      <td>10</td>\n",
              "      <td>25.641667</td>\n",
              "      <td>13.12</td>\n",
              "      <td>0.025</td>\n",
              "      <td>19.231250</td>\n",
              "    </tr>\n",
              "    <tr>\n",
              "      <th>2018-07-09 00:49:31</th>\n",
              "      <td>44</td>\n",
              "      <td>5</td>\n",
              "      <td>13.616667</td>\n",
              "      <td>13.12</td>\n",
              "      <td>0.025</td>\n",
              "      <td>18.568182</td>\n",
              "    </tr>\n",
              "    <tr>\n",
              "      <th>2018-07-09 00:54:11</th>\n",
              "      <td>33</td>\n",
              "      <td>4</td>\n",
              "      <td>10.427778</td>\n",
              "      <td>13.12</td>\n",
              "      <td>0.025</td>\n",
              "      <td>18.959596</td>\n",
              "    </tr>\n",
              "    <tr>\n",
              "      <th>2018-07-09 01:00:57</th>\n",
              "      <td>37</td>\n",
              "      <td>5</td>\n",
              "      <td>12.238889</td>\n",
              "      <td>13.12</td>\n",
              "      <td>0.025</td>\n",
              "      <td>19.846847</td>\n",
              "    </tr>\n",
              "  </tbody>\n",
              "</table>\n",
              "</div>"
            ],
            "text/plain": [
              "                     FlowTime  Amount     Litres  Voltage  FxRate   FlowRate\n",
              "DateTime                                                                    \n",
              "2018-07-09 00:33:56        75       9  24.313889    13.12   0.025  19.451111\n",
              "2018-07-09 00:35:19        80      10  25.641667    13.12   0.025  19.231250\n",
              "2018-07-09 00:49:31        44       5  13.616667    13.12   0.025  18.568182\n",
              "2018-07-09 00:54:11        33       4  10.427778    13.12   0.025  18.959596\n",
              "2018-07-09 01:00:57        37       5  12.238889    13.12   0.025  19.846847"
            ]
          },
          "metadata": {
            "tags": []
          },
          "execution_count": 79
        }
      ]
    },
    {
      "cell_type": "code",
      "metadata": {
        "id": "6kHb1RArrIN9",
        "colab_type": "code",
        "colab": {}
      },
      "source": [
        "Asset_5_x_input = Asset_5_x_input.values"
      ],
      "execution_count": 80,
      "outputs": []
    },
    {
      "cell_type": "code",
      "metadata": {
        "id": "cLhYvtFyrIOA",
        "colab_type": "code",
        "colab": {}
      },
      "source": [
        "Asset_5_x_input, _ = split_sequence(Asset_5_x_input, 30)"
      ],
      "execution_count": 81,
      "outputs": []
    },
    {
      "cell_type": "code",
      "metadata": {
        "id": "yGmyjdoQrIOD",
        "colab_type": "code",
        "colab": {
          "base_uri": "https://localhost:8080/",
          "height": 0
        },
        "outputId": "9af4fe2b-ef68-499a-a4db-e67f3a9173f7"
      },
      "source": [
        "print(np.asarray(Asset_5_x_input).shape)"
      ],
      "execution_count": 82,
      "outputs": [
        {
          "output_type": "stream",
          "text": [
            "(70, 30, 6)\n"
          ],
          "name": "stdout"
        }
      ]
    },
    {
      "cell_type": "code",
      "metadata": {
        "id": "XfonJz1ArIOI",
        "colab_type": "code",
        "colab": {}
      },
      "source": [
        "Asset_5_x_input = np.array(Asset_5_x_input)"
      ],
      "execution_count": 83,
      "outputs": []
    },
    {
      "cell_type": "markdown",
      "metadata": {
        "id": "B4EFLANqrIOL",
        "colab_type": "text"
      },
      "source": [
        "#### Probabilities of all predictions"
      ]
    },
    {
      "cell_type": "code",
      "metadata": {
        "id": "TYuIoqIDrIOL",
        "colab_type": "code",
        "colab": {
          "base_uri": "https://localhost:8080/",
          "height": 0
        },
        "outputId": "b66137df-068c-445e-8c66-9f0fcc54c9c9"
      },
      "source": [
        "Asset_5_yhat = model_BiLSTM.predict(Asset_5_x_input, verbose=0)\n",
        "Asset_5_yhat"
      ],
      "execution_count": 84,
      "outputs": [
        {
          "output_type": "execute_result",
          "data": {
            "text/plain": [
              "array([[1.4514779e-02, 1.9403629e-02, 1.3445680e-02, ..., 1.3123743e-02,\n",
              "        1.2849807e-02, 3.3610713e-02],\n",
              "       [4.5827831e-11, 2.9113382e-04, 2.4352021e-15, ..., 3.7398192e-17,\n",
              "        3.5510727e-08, 3.3578651e-03],\n",
              "       [1.1869064e-02, 2.2686901e-02, 2.6049621e-03, ..., 4.0763174e-03,\n",
              "        1.4651000e-02, 4.3864015e-02],\n",
              "       ...,\n",
              "       [3.7115930e-07, 7.2663063e-03, 1.5228436e-15, ..., 3.7424541e-15,\n",
              "        5.6073273e-04, 3.6098200e-03],\n",
              "       [1.1784055e-03, 1.9436499e-02, 7.0748979e-06, ..., 8.7952676e-06,\n",
              "        7.3294467e-03, 2.4272719e-02],\n",
              "       [3.5494389e-07, 7.2211297e-03, 1.3482815e-15, ..., 3.3257563e-15,\n",
              "        5.5246719e-04, 3.5694672e-03]], dtype=float32)"
            ]
          },
          "metadata": {
            "tags": []
          },
          "execution_count": 84
        }
      ]
    },
    {
      "cell_type": "code",
      "metadata": {
        "id": "V5V_RZfBrIOS",
        "colab_type": "code",
        "colab": {
          "base_uri": "https://localhost:8080/",
          "height": 0
        },
        "outputId": "c58a9264-bdce-47a4-e73d-8839edc9fbe1"
      },
      "source": [
        "Asset_5_yhat.shape"
      ],
      "execution_count": 85,
      "outputs": [
        {
          "output_type": "execute_result",
          "data": {
            "text/plain": [
              "(70, 25)"
            ]
          },
          "metadata": {
            "tags": []
          },
          "execution_count": 85
        }
      ]
    },
    {
      "cell_type": "markdown",
      "metadata": {
        "id": "MCOx4ALZrIOV",
        "colab_type": "text"
      },
      "source": [
        "#### Convert all prediction probabilities to actual Error Codes"
      ]
    },
    {
      "cell_type": "code",
      "metadata": {
        "id": "Si8gUE7ZrIOW",
        "colab_type": "code",
        "colab": {
          "base_uri": "https://localhost:8080/",
          "height": 0
        },
        "outputId": "02edb172-27ce-43e0-cc46-1d596b2e21d8"
      },
      "source": [
        "np.argmax(Asset_5_yhat, axis=-1).shape"
      ],
      "execution_count": 86,
      "outputs": [
        {
          "output_type": "execute_result",
          "data": {
            "text/plain": [
              "(70,)"
            ]
          },
          "metadata": {
            "tags": []
          },
          "execution_count": 86
        }
      ]
    },
    {
      "cell_type": "code",
      "metadata": {
        "id": "EvwQtfXurIOc",
        "colab_type": "code",
        "colab": {
          "base_uri": "https://localhost:8080/",
          "height": 0
        },
        "outputId": "7e63c7ff-ffdf-4569-f02c-d5c9dc47a77a"
      },
      "source": [
        "np.argmax(Asset_5_yhat, axis=-1)"
      ],
      "execution_count": 87,
      "outputs": [
        {
          "output_type": "execute_result",
          "data": {
            "text/plain": [
              "array([9, 9, 9, 9, 9, 9, 9, 9, 9, 9, 9, 9, 9, 9, 9, 9, 9, 9, 9, 9, 9, 9,\n",
              "       9, 9, 9, 9, 9, 9, 9, 9, 9, 9, 9, 9, 9, 9, 9, 9, 9, 9, 9, 9, 9, 9,\n",
              "       9, 9, 9, 9, 9, 9, 9, 9, 9, 9, 9, 9, 9, 9, 9, 9, 9, 9, 9, 9, 9, 9,\n",
              "       9, 9, 9, 9])"
            ]
          },
          "metadata": {
            "tags": []
          },
          "execution_count": 87
        }
      ]
    },
    {
      "cell_type": "code",
      "metadata": {
        "id": "16EjxM6crIOf",
        "colab_type": "code",
        "colab": {}
      },
      "source": [
        ""
      ],
      "execution_count": 87,
      "outputs": []
    }
  ]
}