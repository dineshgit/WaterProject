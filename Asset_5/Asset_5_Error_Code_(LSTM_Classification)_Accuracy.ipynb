{
  "nbformat": 4,
  "nbformat_minor": 0,
  "metadata": {
    "kernelspec": {
      "display_name": "Python 3",
      "language": "python",
      "name": "python3"
    },
    "language_info": {
      "codemirror_mode": {
        "name": "ipython",
        "version": 3
      },
      "file_extension": ".py",
      "mimetype": "text/x-python",
      "name": "python",
      "nbconvert_exporter": "python",
      "pygments_lexer": "ipython3",
      "version": "3.7.7"
    },
    "colab": {
      "name": "Asset 5 - Error Code (LSTM Classification) Accuracy.ipynb",
      "provenance": [],
      "toc_visible": true
    },
    "accelerator": "GPU"
  },
  "cells": [
    {
      "cell_type": "markdown",
      "metadata": {
        "id": "nonjlsNts6Bc",
        "colab_type": "text"
      },
      "source": [
        "#### Asset 5 Error Code -> LSTM -> Accuracy"
      ]
    },
    {
      "cell_type": "code",
      "metadata": {
        "id": "QC9bvcgEs6Bd",
        "colab_type": "code",
        "colab": {
          "base_uri": "https://localhost:8080/",
          "height": 34
        },
        "outputId": "673585cd-cb41-48fc-fe98-ae2edcb281c3"
      },
      "source": [
        "from numpy import mean\n",
        "from numpy import std\n",
        "from numpy import dstack\n",
        "import pandas as pd\n",
        "pd.options.mode.chained_assignment = None\n",
        "import random as rn\n",
        "import os\n",
        "import numpy as np\n",
        "from numpy import array\n",
        "from pandas import read_csv\n",
        "from keras.models import Sequential\n",
        "from keras.layers import Dense\n",
        "from keras.layers import LSTM\n",
        "from keras.layers import Flatten\n",
        "from keras.layers import Dropout\n",
        "from keras.layers import Embedding, Bidirectional\n",
        "from keras.layers.convolutional import Conv1D\n",
        "from keras.layers.convolutional import MaxPooling1D\n",
        "from keras.utils import to_categorical\n",
        "from sklearn import preprocessing\n",
        "\n",
        "import tensorflow as tf\n",
        "from keras.utils import to_categorical\n",
        "\n",
        "from time import time\n",
        "import keras\n",
        "from keras import backend as K\n",
        "from keras.utils.vis_utils import plot_model\n",
        "import pydot\n",
        "\n",
        "from sklearn.metrics import accuracy_score\n",
        "from sklearn.model_selection import train_test_split\n",
        "from sklearn.metrics import precision_score\n",
        "from sklearn.metrics import recall_score\n",
        "from sklearn.metrics import f1_score\n",
        "from sklearn.metrics import cohen_kappa_score\n",
        "from sklearn.metrics import roc_auc_score\n",
        "from sklearn.metrics import confusion_matrix\n",
        "from sklearn.metrics import classification_report\n",
        "\n",
        "from livelossplot import PlotLossesKeras\n",
        "from keras.callbacks import ModelCheckpoint, EarlyStopping\n",
        "\n",
        "# Setting Seed for reproducibility.\n",
        "sd = 1 # Here sd means seed.\n",
        "np.random.seed(sd)\n",
        "rn.seed(sd)\n",
        "os.environ['PYTHONHASHSEED']=str(sd)\n",
        "\n",
        "import warnings\n",
        "warnings.filterwarnings('always')\n",
        "\n",
        "import tensorflow.python.util.deprecation as deprecation\n",
        "deprecation._PRINT_DEPRECATION_WARNINGS = False"
      ],
      "execution_count": 2,
      "outputs": [
        {
          "output_type": "stream",
          "text": [
            "Using TensorFlow backend.\n"
          ],
          "name": "stderr"
        }
      ]
    },
    {
      "cell_type": "code",
      "metadata": {
        "id": "Fzan_o9hs6Bi",
        "colab_type": "code",
        "colab": {}
      },
      "source": [
        "df_5 = pd.read_csv('Asset5_ErrorCode.csv')"
      ],
      "execution_count": 3,
      "outputs": []
    },
    {
      "cell_type": "code",
      "metadata": {
        "id": "e0tDkIHws6Bm",
        "colab_type": "code",
        "colab": {}
      },
      "source": [
        "df_5 = df_5.copy()"
      ],
      "execution_count": 4,
      "outputs": []
    },
    {
      "cell_type": "code",
      "metadata": {
        "id": "nXCfvIJQs6Bp",
        "colab_type": "code",
        "colab": {
          "base_uri": "https://localhost:8080/",
          "height": 202
        },
        "outputId": "c6c75b37-a39d-4331-9adf-1989b8f8c80c"
      },
      "source": [
        "df_5.head()"
      ],
      "execution_count": 5,
      "outputs": [
        {
          "output_type": "execute_result",
          "data": {
            "text/html": [
              "<div>\n",
              "<style scoped>\n",
              "    .dataframe tbody tr th:only-of-type {\n",
              "        vertical-align: middle;\n",
              "    }\n",
              "\n",
              "    .dataframe tbody tr th {\n",
              "        vertical-align: top;\n",
              "    }\n",
              "\n",
              "    .dataframe thead th {\n",
              "        text-align: right;\n",
              "    }\n",
              "</style>\n",
              "<table border=\"1\" class=\"dataframe\">\n",
              "  <thead>\n",
              "    <tr style=\"text-align: right;\">\n",
              "      <th></th>\n",
              "      <th>DateTime</th>\n",
              "      <th>ErrorCode</th>\n",
              "      <th>FlowTime</th>\n",
              "      <th>Amount</th>\n",
              "      <th>Litres</th>\n",
              "      <th>Voltage</th>\n",
              "      <th>FxRate</th>\n",
              "      <th>FlowRate</th>\n",
              "    </tr>\n",
              "  </thead>\n",
              "  <tbody>\n",
              "    <tr>\n",
              "      <th>0</th>\n",
              "      <td>2004-01-01 01:35:09</td>\n",
              "      <td>9</td>\n",
              "      <td>66</td>\n",
              "      <td>19</td>\n",
              "      <td>32.391667</td>\n",
              "      <td>5.578702</td>\n",
              "      <td>0.025</td>\n",
              "      <td>29.446970</td>\n",
              "    </tr>\n",
              "    <tr>\n",
              "      <th>1</th>\n",
              "      <td>2004-01-01 01:38:00</td>\n",
              "      <td>9</td>\n",
              "      <td>22</td>\n",
              "      <td>6</td>\n",
              "      <td>10.547222</td>\n",
              "      <td>5.578702</td>\n",
              "      <td>0.025</td>\n",
              "      <td>28.765152</td>\n",
              "    </tr>\n",
              "    <tr>\n",
              "      <th>2</th>\n",
              "      <td>2004-01-01 01:39:02</td>\n",
              "      <td>9</td>\n",
              "      <td>2</td>\n",
              "      <td>0</td>\n",
              "      <td>0.444444</td>\n",
              "      <td>5.578702</td>\n",
              "      <td>0.025</td>\n",
              "      <td>13.333333</td>\n",
              "    </tr>\n",
              "    <tr>\n",
              "      <th>3</th>\n",
              "      <td>2004-01-01 03:38:07</td>\n",
              "      <td>9</td>\n",
              "      <td>2</td>\n",
              "      <td>0</td>\n",
              "      <td>0.422222</td>\n",
              "      <td>5.578702</td>\n",
              "      <td>0.025</td>\n",
              "      <td>12.666667</td>\n",
              "    </tr>\n",
              "    <tr>\n",
              "      <th>4</th>\n",
              "      <td>2004-01-01 03:39:09</td>\n",
              "      <td>9</td>\n",
              "      <td>42</td>\n",
              "      <td>12</td>\n",
              "      <td>19.869444</td>\n",
              "      <td>5.578702</td>\n",
              "      <td>0.025</td>\n",
              "      <td>28.384921</td>\n",
              "    </tr>\n",
              "  </tbody>\n",
              "</table>\n",
              "</div>"
            ],
            "text/plain": [
              "              DateTime  ErrorCode  FlowTime  ...   Voltage  FxRate   FlowRate\n",
              "0  2004-01-01 01:35:09          9        66  ...  5.578702   0.025  29.446970\n",
              "1  2004-01-01 01:38:00          9        22  ...  5.578702   0.025  28.765152\n",
              "2  2004-01-01 01:39:02          9         2  ...  5.578702   0.025  13.333333\n",
              "3  2004-01-01 03:38:07          9         2  ...  5.578702   0.025  12.666667\n",
              "4  2004-01-01 03:39:09          9        42  ...  5.578702   0.025  28.384921\n",
              "\n",
              "[5 rows x 8 columns]"
            ]
          },
          "metadata": {
            "tags": []
          },
          "execution_count": 5
        }
      ]
    },
    {
      "cell_type": "markdown",
      "metadata": {
        "id": "DpZL-k_os6Bt",
        "colab_type": "text"
      },
      "source": [
        "#### Check unique Error Code values"
      ]
    },
    {
      "cell_type": "code",
      "metadata": {
        "id": "ZNjWjw-3s6Bu",
        "colab_type": "code",
        "colab": {
          "base_uri": "https://localhost:8080/",
          "height": 277
        },
        "outputId": "85807dac-f5ab-4bfd-bf3d-22f13f8c5f85"
      },
      "source": [
        "df_5.ErrorCode.value_counts()"
      ],
      "execution_count": 6,
      "outputs": [
        {
          "output_type": "execute_result",
          "data": {
            "text/plain": [
              "9     39797\n",
              "17     1276\n",
              "6      1070\n",
              "5       723\n",
              "24      704\n",
              "1       638\n",
              "14      506\n",
              "16      245\n",
              "15      206\n",
              "11       27\n",
              "18       21\n",
              "23        5\n",
              "7         1\n",
              "2         1\n",
              "Name: ErrorCode, dtype: int64"
            ]
          },
          "metadata": {
            "tags": []
          },
          "execution_count": 6
        }
      ]
    },
    {
      "cell_type": "code",
      "metadata": {
        "id": "0sj0nkqms6Bz",
        "colab_type": "code",
        "colab": {
          "base_uri": "https://localhost:8080/",
          "height": 34
        },
        "outputId": "c6cafe07-a260-4905-ecac-7914b06ff62f"
      },
      "source": [
        "df_5.ErrorCode.nunique()"
      ],
      "execution_count": 7,
      "outputs": [
        {
          "output_type": "execute_result",
          "data": {
            "text/plain": [
              "14"
            ]
          },
          "metadata": {
            "tags": []
          },
          "execution_count": 7
        }
      ]
    },
    {
      "cell_type": "markdown",
      "metadata": {
        "id": "anwzUbXVs6B4",
        "colab_type": "text"
      },
      "source": [
        "#### Remove the single occurence of Error Code to ensure proper class balance in each data split"
      ]
    },
    {
      "cell_type": "code",
      "metadata": {
        "id": "NP3wGVr2s6B5",
        "colab_type": "code",
        "colab": {}
      },
      "source": [
        "df_5 = df_5[df_5.ErrorCode != 7]"
      ],
      "execution_count": 8,
      "outputs": []
    },
    {
      "cell_type": "code",
      "metadata": {
        "id": "mRtJ7P3Bs6B8",
        "colab_type": "code",
        "colab": {}
      },
      "source": [
        "df_5 = df_5[df_5.ErrorCode != 2]"
      ],
      "execution_count": 9,
      "outputs": []
    },
    {
      "cell_type": "code",
      "metadata": {
        "id": "CP8q0Dcys6B_",
        "colab_type": "code",
        "colab": {
          "base_uri": "https://localhost:8080/",
          "height": 34
        },
        "outputId": "d30e9da9-1541-4b8f-82bc-35631b6e4cb4"
      },
      "source": [
        "df_5.ErrorCode.nunique()"
      ],
      "execution_count": 10,
      "outputs": [
        {
          "output_type": "execute_result",
          "data": {
            "text/plain": [
              "12"
            ]
          },
          "metadata": {
            "tags": []
          },
          "execution_count": 10
        }
      ]
    },
    {
      "cell_type": "markdown",
      "metadata": {
        "id": "-VCr9nqCs6CC",
        "colab_type": "text"
      },
      "source": [
        "#### Split Train/Test data from main Asset file"
      ]
    },
    {
      "cell_type": "code",
      "metadata": {
        "id": "q54-T-i-s6CC",
        "colab_type": "code",
        "colab": {}
      },
      "source": [
        "train, test = train_test_split(df_5, test_size=0.3, random_state=42, shuffle=True)"
      ],
      "execution_count": 11,
      "outputs": []
    },
    {
      "cell_type": "code",
      "metadata": {
        "id": "FEuGVUmCs6CF",
        "colab_type": "code",
        "colab": {}
      },
      "source": [
        "train = train.set_index('DateTime')\n",
        "test = test.set_index('DateTime')"
      ],
      "execution_count": 12,
      "outputs": []
    },
    {
      "cell_type": "code",
      "metadata": {
        "id": "7Q2F4HGQs6CI",
        "colab_type": "code",
        "colab": {
          "base_uri": "https://localhost:8080/",
          "height": 34
        },
        "outputId": "05a5e2fc-152f-40db-c0db-8ce8ab3c777f"
      },
      "source": [
        "train.shape, test.shape"
      ],
      "execution_count": 13,
      "outputs": [
        {
          "output_type": "execute_result",
          "data": {
            "text/plain": [
              "((31652, 7), (13566, 7))"
            ]
          },
          "metadata": {
            "tags": []
          },
          "execution_count": 13
        }
      ]
    },
    {
      "cell_type": "code",
      "metadata": {
        "id": "U1jBlUnNs6CL",
        "colab_type": "code",
        "colab": {}
      },
      "source": [
        "trainX = train.drop('ErrorCode', axis=1)\n",
        "testX = test.drop('ErrorCode', axis=1)"
      ],
      "execution_count": 14,
      "outputs": []
    },
    {
      "cell_type": "code",
      "metadata": {
        "id": "aEhjLnC_s6CN",
        "colab_type": "code",
        "colab": {}
      },
      "source": [
        "trainy = train.drop(['FlowTime', 'Amount', 'Litres', 'Voltage', 'FxRate', 'FlowRate'], axis=1)\n",
        "testy = test.drop(['FlowTime', 'Amount', 'Litres', 'Voltage', 'FxRate', 'FlowRate'], axis=1)"
      ],
      "execution_count": 15,
      "outputs": []
    },
    {
      "cell_type": "code",
      "metadata": {
        "id": "xYBM6SCes6CQ",
        "colab_type": "code",
        "colab": {
          "base_uri": "https://localhost:8080/",
          "height": 34
        },
        "outputId": "24bf3cbf-0fd8-4411-ddf3-c54d0443b2d3"
      },
      "source": [
        "trainX.shape, trainy.shape"
      ],
      "execution_count": 16,
      "outputs": [
        {
          "output_type": "execute_result",
          "data": {
            "text/plain": [
              "((31652, 6), (31652, 1))"
            ]
          },
          "metadata": {
            "tags": []
          },
          "execution_count": 16
        }
      ]
    },
    {
      "cell_type": "code",
      "metadata": {
        "id": "IO2oZg9ls6CS",
        "colab_type": "code",
        "colab": {
          "base_uri": "https://localhost:8080/",
          "height": 34
        },
        "outputId": "c3e89cc0-7a1c-4569-9208-4fb5d797354a"
      },
      "source": [
        "testX.shape, testy.shape"
      ],
      "execution_count": 17,
      "outputs": [
        {
          "output_type": "execute_result",
          "data": {
            "text/plain": [
              "((13566, 6), (13566, 1))"
            ]
          },
          "metadata": {
            "tags": []
          },
          "execution_count": 17
        }
      ]
    },
    {
      "cell_type": "markdown",
      "metadata": {
        "id": "dmSqmISFs6CV",
        "colab_type": "text"
      },
      "source": [
        "#### Split data to obtain Validation data set (20 % used as validation)"
      ]
    },
    {
      "cell_type": "code",
      "metadata": {
        "id": "UIMzDwXas6CV",
        "colab_type": "code",
        "colab": {}
      },
      "source": [
        "trainX, valX, trainy, valy = train_test_split(trainX, trainy, test_size=0.2, random_state=32, shuffle=True)"
      ],
      "execution_count": 18,
      "outputs": []
    },
    {
      "cell_type": "code",
      "metadata": {
        "id": "4IoknWmvs6CY",
        "colab_type": "code",
        "colab": {
          "base_uri": "https://localhost:8080/",
          "height": 0
        },
        "outputId": "1287ac2c-d4f2-46d1-9465-06c043c38160"
      },
      "source": [
        "valX.shape, valy.shape"
      ],
      "execution_count": 19,
      "outputs": [
        {
          "output_type": "execute_result",
          "data": {
            "text/plain": [
              "((6331, 6), (6331, 1))"
            ]
          },
          "metadata": {
            "tags": []
          },
          "execution_count": 19
        }
      ]
    },
    {
      "cell_type": "markdown",
      "metadata": {
        "id": "nSsAKcQss6Cc",
        "colab_type": "text"
      },
      "source": [
        "#### Check if the number of classes look similar to earlier results"
      ]
    },
    {
      "cell_type": "code",
      "metadata": {
        "id": "Te1BHnals6Cc",
        "colab_type": "code",
        "colab": {
          "base_uri": "https://localhost:8080/",
          "height": 0
        },
        "outputId": "7e6edbc7-9c21-44ce-ff2c-595739d086fe"
      },
      "source": [
        "valy.ErrorCode.unique()"
      ],
      "execution_count": 20,
      "outputs": [
        {
          "output_type": "execute_result",
          "data": {
            "text/plain": [
              "array([ 9,  5, 24,  6, 14, 16,  1, 15, 17, 11, 18])"
            ]
          },
          "metadata": {
            "tags": []
          },
          "execution_count": 20
        }
      ]
    },
    {
      "cell_type": "code",
      "metadata": {
        "id": "W_3Tm3kos6Cf",
        "colab_type": "code",
        "colab": {
          "base_uri": "https://localhost:8080/",
          "height": 0
        },
        "outputId": "a6ebd6cf-6bed-45f1-aff6-02c02576739c"
      },
      "source": [
        "valy.ErrorCode.nunique()"
      ],
      "execution_count": 21,
      "outputs": [
        {
          "output_type": "execute_result",
          "data": {
            "text/plain": [
              "11"
            ]
          },
          "metadata": {
            "tags": []
          },
          "execution_count": 21
        }
      ]
    },
    {
      "cell_type": "markdown",
      "metadata": {
        "id": "MR-dreTFs6Ci",
        "colab_type": "text"
      },
      "source": [
        "#### Convert all classes in all data splits to categorical"
      ]
    },
    {
      "cell_type": "code",
      "metadata": {
        "id": "7LTWvjVrs6Ci",
        "colab_type": "code",
        "colab": {}
      },
      "source": [
        "trainy = to_categorical(trainy)\n",
        "testy = to_categorical(testy)\n",
        "valy = to_categorical(valy)"
      ],
      "execution_count": 22,
      "outputs": []
    },
    {
      "cell_type": "code",
      "metadata": {
        "id": "09jP-49Bs6Cl",
        "colab_type": "code",
        "colab": {
          "base_uri": "https://localhost:8080/",
          "height": 0
        },
        "outputId": "45001ad6-2b14-4dd4-c43a-a96ba057a399"
      },
      "source": [
        "trainy.shape, testy.shape, valy.shape"
      ],
      "execution_count": 23,
      "outputs": [
        {
          "output_type": "execute_result",
          "data": {
            "text/plain": [
              "((25321, 25), (13566, 25), (6331, 25))"
            ]
          },
          "metadata": {
            "tags": []
          },
          "execution_count": 23
        }
      ]
    },
    {
      "cell_type": "markdown",
      "metadata": {
        "id": "etgyiym6s6Cn",
        "colab_type": "text"
      },
      "source": [
        "#### Helper function to split data into suitable timesteps (30 timesteps/hours are used) "
      ]
    },
    {
      "cell_type": "code",
      "metadata": {
        "id": "MpJrtAMPs6Co",
        "colab_type": "code",
        "colab": {}
      },
      "source": [
        "def split_sequence(sequence, n_steps):\n",
        "    X, y = list(), list()\n",
        "    for i in range(len(sequence)):\n",
        "        end_ix = i + n_steps\n",
        "        if end_ix > len(sequence)-1:\n",
        "            break\n",
        "        seq_x, seq_y = sequence[i:end_ix], sequence[end_ix]\n",
        "        X.append(seq_x)\n",
        "        y.append(seq_y)\n",
        "    return array(X), array(y)"
      ],
      "execution_count": 24,
      "outputs": []
    },
    {
      "cell_type": "markdown",
      "metadata": {
        "id": "P3mZjjTAs6Cq",
        "colab_type": "text"
      },
      "source": [
        "#### Train data splitting"
      ]
    },
    {
      "cell_type": "code",
      "metadata": {
        "id": "BoaWsb4gs6Cr",
        "colab_type": "code",
        "colab": {}
      },
      "source": [
        "trainX = np.array(trainX) \n",
        "trainy = np.array(trainy)"
      ],
      "execution_count": 25,
      "outputs": []
    },
    {
      "cell_type": "code",
      "metadata": {
        "id": "KVKlv-Bms6Cv",
        "colab_type": "code",
        "colab": {}
      },
      "source": [
        "trainX, _ = split_sequence(trainX, 30)\n",
        "_, trainy = split_sequence(trainy, 30)"
      ],
      "execution_count": 26,
      "outputs": []
    },
    {
      "cell_type": "code",
      "metadata": {
        "id": "lNPLDqRgs6Cy",
        "colab_type": "code",
        "colab": {
          "base_uri": "https://localhost:8080/",
          "height": 0
        },
        "outputId": "4efdb81f-b8b1-4536-dcc0-64ffc7e7405b"
      },
      "source": [
        "trainX.shape, trainy.shape"
      ],
      "execution_count": 27,
      "outputs": [
        {
          "output_type": "execute_result",
          "data": {
            "text/plain": [
              "((25291, 30, 6), (25291, 25))"
            ]
          },
          "metadata": {
            "tags": []
          },
          "execution_count": 27
        }
      ]
    },
    {
      "cell_type": "markdown",
      "metadata": {
        "id": "ujq5aO1es6C0",
        "colab_type": "text"
      },
      "source": [
        "#### Test data splitting"
      ]
    },
    {
      "cell_type": "code",
      "metadata": {
        "id": "_VNMU4_Gs6C1",
        "colab_type": "code",
        "colab": {}
      },
      "source": [
        "testX = np.array(testX) \n",
        "testy = np.array(testy)"
      ],
      "execution_count": 28,
      "outputs": []
    },
    {
      "cell_type": "code",
      "metadata": {
        "id": "ixHaHZLJs6C4",
        "colab_type": "code",
        "colab": {}
      },
      "source": [
        "testX, _ = split_sequence(testX, 30)\n",
        "_, testy = split_sequence(testy, 30)"
      ],
      "execution_count": 29,
      "outputs": []
    },
    {
      "cell_type": "code",
      "metadata": {
        "id": "mmmScP83s6C6",
        "colab_type": "code",
        "colab": {
          "base_uri": "https://localhost:8080/",
          "height": 0
        },
        "outputId": "3c081cd4-2ed1-4687-ec87-b4a864a0d46e"
      },
      "source": [
        "testX.shape, testy.shape"
      ],
      "execution_count": 30,
      "outputs": [
        {
          "output_type": "execute_result",
          "data": {
            "text/plain": [
              "((13536, 30, 6), (13536, 25))"
            ]
          },
          "metadata": {
            "tags": []
          },
          "execution_count": 30
        }
      ]
    },
    {
      "cell_type": "markdown",
      "metadata": {
        "id": "qaiKY7oYs6C-",
        "colab_type": "text"
      },
      "source": [
        "#### Validation data splitting"
      ]
    },
    {
      "cell_type": "code",
      "metadata": {
        "id": "mLzvcIbJs6C_",
        "colab_type": "code",
        "colab": {}
      },
      "source": [
        "valX = np.array(valX) \n",
        "valy = np.array(valy)"
      ],
      "execution_count": 31,
      "outputs": []
    },
    {
      "cell_type": "code",
      "metadata": {
        "id": "9KLgJKdLs6DB",
        "colab_type": "code",
        "colab": {}
      },
      "source": [
        "valX, _ = split_sequence(valX, 30)\n",
        "_, valy = split_sequence(valy, 30)"
      ],
      "execution_count": 32,
      "outputs": []
    },
    {
      "cell_type": "code",
      "metadata": {
        "id": "Tq3ud1UCs6DD",
        "colab_type": "code",
        "colab": {
          "base_uri": "https://localhost:8080/",
          "height": 0
        },
        "outputId": "ee8cd6c9-8e9d-4e26-a7f3-a276a3269c0a"
      },
      "source": [
        "valX.shape, valy.shape"
      ],
      "execution_count": 33,
      "outputs": [
        {
          "output_type": "execute_result",
          "data": {
            "text/plain": [
              "((6301, 30, 6), (6301, 25))"
            ]
          },
          "metadata": {
            "tags": []
          },
          "execution_count": 33
        }
      ]
    },
    {
      "cell_type": "markdown",
      "metadata": {
        "id": "brKbiTncs6DG",
        "colab_type": "text"
      },
      "source": [
        "#### Custom Keras metric to calculate Recall, Precision and F1 Score"
      ]
    },
    {
      "cell_type": "code",
      "metadata": {
        "id": "9q4mIHC_s6DG",
        "colab_type": "code",
        "colab": {}
      },
      "source": [
        "class Metrics(tf.keras.callbacks.Callback):\n",
        "    \n",
        "    def __init__(self, valid_data):\n",
        "        super(Metrics, self).__init__()\n",
        "        self.validation_data = valid_data\n",
        "\n",
        "    def on_epoch_end(self, epoch, logs=None):\n",
        "        logs = logs or {}\n",
        "        val_predict = np.argmax(self.model.predict(self.validation_data[0]), -1)\n",
        "        val_targ = self.validation_data[1]\n",
        "        if len(val_targ.shape) == 2 and val_targ.shape[1] != 1:\n",
        "            val_targ = np.argmax(val_targ, -1)\n",
        "\n",
        "        _val_f1 = f1_score(val_targ, val_predict, average='macro')\n",
        "        _val_recall = recall_score(val_targ, val_predict, average='macro')\n",
        "        _val_precision = precision_score(val_targ, val_predict, average='macro')\n",
        "\n",
        "        logs['val_f1'] = _val_f1\n",
        "        logs['val_recall'] = _val_recall\n",
        "        logs['val_precision'] = _val_precision\n",
        "        print(\" — val_f1: %f — val_precision: %f — val_recall: %f\" % (_val_f1, _val_precision, _val_recall))\n",
        "        return"
      ],
      "execution_count": 34,
      "outputs": []
    },
    {
      "cell_type": "markdown",
      "metadata": {
        "id": "bkutAgn_s6DI",
        "colab_type": "text"
      },
      "source": [
        "#### Define model architecture"
      ]
    },
    {
      "cell_type": "code",
      "metadata": {
        "id": "8Fh8r5X1s6DJ",
        "colab_type": "code",
        "colab": {
          "base_uri": "https://localhost:8080/",
          "height": 1000
        },
        "outputId": "d86bb598-90b8-462e-ddbc-bad7a6f682df"
      },
      "source": [
        "verbose, epochs, batch_size = 1, 200, 64\n",
        "n_nodes = 100\n",
        "\n",
        "n_timesteps, n_features, n_outputs = trainX.shape[1], trainX.shape[2], trainy.shape[1]\n",
        "\n",
        "# Early stopping and Model checkpointing\n",
        "es = EarlyStopping(monitor='val_f1', mode='max', verbose=1, patience=50, min_delta=1)\n",
        "mc = ModelCheckpoint('Asset_5_best_model_LSTM-ErrorCode.h5', monitor='val_f1', mode='max', verbose=1, save_best_only=True)\n",
        "\n",
        "model = Sequential()\n",
        "model.add(LSTM(n_nodes, return_sequences=True, input_shape=(n_timesteps, n_features)))\n",
        "model.add(LSTM(n_nodes))\n",
        "#model.add(Dropout(0.5))\n",
        "model.add(Dense(n_nodes, activation='relu'))\n",
        "model.add(Dense(n_outputs, activation='softmax'))\n",
        "\n",
        "# Compile model\n",
        "model.compile(optimizer='adam', loss='categorical_crossentropy', metrics=['accuracy'])\n",
        "\n",
        "# Fit network\n",
        "start = time()\n",
        "\n",
        "model.fit(trainX, trainy, validation_data=(valX, valy), epochs=epochs, batch_size=batch_size, verbose=verbose, \n",
        "          callbacks=[Metrics(valid_data=(valX, valy)), es, mc, PlotLossesKeras()])\n",
        "\n",
        "print('\\n')\n",
        "print('Training time in minutes: %.2f' % ((time() - start) / 60))\n",
        "print('\\n')\n",
        "model.summary()\n",
        "keras.utils.vis_utils.pydot = pydot\n",
        "plot_model(model, to_file='Asset_5_Architecture_LSTM-ErrorCode.png')"
      ],
      "execution_count": 35,
      "outputs": [
        {
          "output_type": "display_data",
          "data": {
            "image/png": "[encoded data removed]",
            "text/plain": [
              "<Figure size 864x1152 with 6 Axes>"
            ]
          },
          "metadata": {
            "tags": [],
            "needs_background": "light"
          }
        },
        {
          "output_type": "stream",
          "text": [
            "accuracy\n",
            "\tvalidation       \t (min:    0.815, max:    0.888, cur:    0.824)\n",
            "\ttraining         \t (min:    0.874, max:    0.972, cur:    0.972)\n",
            "f1\n",
            "\tval_f1           \t (min:    0.079, max:    0.091, cur:    0.088)\n",
            "Loss\n",
            "\tvalidation       \t (min:    0.577, max:    2.232, cur:    2.232)\n",
            "\ttraining         \t (min:    0.089, max:    0.665, cur:    0.089)\n",
            "precision\n",
            "\tval_precision    \t (min:    0.079, max:    0.172, cur:    0.088)\n",
            "recall\n",
            "\tval_recall       \t (min:    0.080, max:    0.093, cur:    0.089)\n",
            "Epoch 00051: early stopping\n",
            "\n",
            "\n",
            "Training time in minutes: 55.30\n",
            "\n",
            "\n",
            "Model: \"sequential_1\"\n",
            "_________________________________________________________________\n",
            "Layer (type)                 Output Shape              Param #   \n",
            "=================================================================\n",
            "lstm_1 (LSTM)                (None, 30, 100)           42800     \n",
            "_________________________________________________________________\n",
            "lstm_2 (LSTM)                (None, 100)               80400     \n",
            "_________________________________________________________________\n",
            "dense_1 (Dense)              (None, 100)               10100     \n",
            "_________________________________________________________________\n",
            "dense_2 (Dense)              (None, 25)                2525      \n",
            "=================================================================\n",
            "Total params: 135,825\n",
            "Trainable params: 135,825\n",
            "Non-trainable params: 0\n",
            "_________________________________________________________________\n"
          ],
          "name": "stdout"
        },
        {
          "output_type": "execute_result",
          "data": {
            "image/png": "[encoded data removed]",
            "text/plain": [
              "<IPython.core.display.Image object>"
            ]
          },
          "metadata": {
            "tags": []
          },
          "execution_count": 35
        }
      ]
    },
    {
      "cell_type": "code",
      "metadata": {
        "id": "yDOds29rs6DN",
        "colab_type": "code",
        "colab": {
          "base_uri": "https://localhost:8080/",
          "height": 51
        },
        "outputId": "161abdda-972f-4ddf-a621-4e341409e5b1"
      },
      "source": [
        "# Evaluate the model\n",
        "loss, accuracy = model.evaluate(testX, testy, verbose=0)\n",
        "\n",
        "print('Accuracy: %f' % accuracy)\n",
        "print('Loss: %f' % loss)"
      ],
      "execution_count": 36,
      "outputs": [
        {
          "output_type": "stream",
          "text": [
            "Accuracy: 0.815086\n",
            "Loss: 2.478243\n"
          ],
          "name": "stdout"
        }
      ]
    },
    {
      "cell_type": "markdown",
      "metadata": {
        "id": "RWpgo36Rs6DS",
        "colab_type": "text"
      },
      "source": [
        "#### Using trained model to score testX data"
      ]
    },
    {
      "cell_type": "code",
      "metadata": {
        "id": "lk743isAs6DT",
        "colab_type": "code",
        "colab": {
          "base_uri": "https://localhost:8080/",
          "height": 0
        },
        "outputId": "9d8ea1f0-4e40-4fe4-af70-9ec94ea08687"
      },
      "source": [
        "testX.shape"
      ],
      "execution_count": 37,
      "outputs": [
        {
          "output_type": "execute_result",
          "data": {
            "text/plain": [
              "(13536, 30, 6)"
            ]
          },
          "metadata": {
            "tags": []
          },
          "execution_count": 37
        }
      ]
    },
    {
      "cell_type": "code",
      "metadata": {
        "id": "ZHUThtEWs6DV",
        "colab_type": "code",
        "colab": {}
      },
      "source": [
        "# Predict probabilities for test set\n",
        "yhat_probs = model.predict(testX, verbose=0)"
      ],
      "execution_count": 38,
      "outputs": []
    },
    {
      "cell_type": "code",
      "metadata": {
        "id": "U4MtaU-ps6DX",
        "colab_type": "code",
        "colab": {}
      },
      "source": [
        "yhat_probs_decoded = np.argmax(yhat_probs, axis=-1)"
      ],
      "execution_count": 39,
      "outputs": []
    },
    {
      "cell_type": "code",
      "metadata": {
        "id": "a3QCy7FMs6Da",
        "colab_type": "code",
        "colab": {
          "base_uri": "https://localhost:8080/",
          "height": 0
        },
        "outputId": "31cde583-dc1f-4d1c-f970-adb0e8412863"
      },
      "source": [
        "yhat_probs_decoded[:5]"
      ],
      "execution_count": 40,
      "outputs": [
        {
          "output_type": "execute_result",
          "data": {
            "text/plain": [
              "array([9, 6, 9, 6, 9])"
            ]
          },
          "metadata": {
            "tags": []
          },
          "execution_count": 40
        }
      ]
    },
    {
      "cell_type": "markdown",
      "metadata": {
        "id": "bDyxdiyVs6Dg",
        "colab_type": "text"
      },
      "source": [
        "yhat_probs_decoded -> Shows the first 5 samples of predicted Error Code classes for testX data."
      ]
    },
    {
      "cell_type": "markdown",
      "metadata": {
        "id": "0kolzAI7s6Dh",
        "colab_type": "text"
      },
      "source": [
        "#### ROC AUC Computation"
      ]
    },
    {
      "cell_type": "code",
      "metadata": {
        "id": "Vd4hAgDEs6Di",
        "colab_type": "code",
        "colab": {
          "base_uri": "https://localhost:8080/",
          "height": 0
        },
        "outputId": "0d1ee6cd-5558-4576-ede2-a7360f4efd55"
      },
      "source": [
        "# ROC AUC Computation\n",
        "#print('ROC AUC Macro: %f' % roc_auc_score(y_true=testy, y_score=yhat_probs, average='macro')) # --> Macro will not work if there's only one class present in y_true.\n",
        "print('ROC AUC Micro: %f' % roc_auc_score(y_true=testy, y_score=yhat_probs, average='micro'))\n",
        "print('ROC AUC Samples: %f' % roc_auc_score(y_true=testy, y_score=yhat_probs, average='samples'))"
      ],
      "execution_count": 41,
      "outputs": [
        {
          "output_type": "stream",
          "text": [
            "ROC AUC Micro: 0.968788\n",
            "ROC AUC Samples: 0.971149\n"
          ],
          "name": "stdout"
        }
      ]
    },
    {
      "cell_type": "markdown",
      "metadata": {
        "id": "XoM3UVpcs6Dl",
        "colab_type": "text"
      },
      "source": [
        "#### Load Saved Model"
      ]
    },
    {
      "cell_type": "code",
      "metadata": {
        "id": "S1XtvRVjs6Dm",
        "colab_type": "code",
        "colab": {}
      },
      "source": [
        "from keras.models import load_model\n",
        "custom_obj = {'Metrics':Metrics}\n",
        "\n",
        "model_LSTM = load_model('Asset_5_best_model_LSTM-ErrorCode.h5', custom_objects=custom_obj)"
      ],
      "execution_count": 42,
      "outputs": []
    },
    {
      "cell_type": "markdown",
      "metadata": {
        "id": "kF22hd9Xs6Do",
        "colab_type": "text"
      },
      "source": [
        "#### Prediction activity using previous timesteps"
      ]
    },
    {
      "cell_type": "code",
      "metadata": {
        "id": "Chr10Gf1s6Dp",
        "colab_type": "code",
        "colab": {}
      },
      "source": [
        "Asset_5 = pd.read_csv('Asset5_ErrorCode.csv', header=0, index_col=0)\n",
        "Asset_5_x_input = Asset_5.tail(100)"
      ],
      "execution_count": 43,
      "outputs": []
    },
    {
      "cell_type": "code",
      "metadata": {
        "id": "7jpS_5uXs6Dv",
        "colab_type": "code",
        "colab": {}
      },
      "source": [
        "Asset_5_x_input = Asset_5_x_input.drop('ErrorCode', axis=1)"
      ],
      "execution_count": 44,
      "outputs": []
    },
    {
      "cell_type": "code",
      "metadata": {
        "id": "JCIy2SGLs6Dy",
        "colab_type": "code",
        "colab": {
          "base_uri": "https://localhost:8080/",
          "height": 0
        },
        "outputId": "67505df0-fe5d-4f19-f282-207c7b90625c"
      },
      "source": [
        "Asset_5_x_input.head()"
      ],
      "execution_count": 45,
      "outputs": [
        {
          "output_type": "execute_result",
          "data": {
            "text/html": [
              "<div>\n",
              "<style scoped>\n",
              "    .dataframe tbody tr th:only-of-type {\n",
              "        vertical-align: middle;\n",
              "    }\n",
              "\n",
              "    .dataframe tbody tr th {\n",
              "        vertical-align: top;\n",
              "    }\n",
              "\n",
              "    .dataframe thead th {\n",
              "        text-align: right;\n",
              "    }\n",
              "</style>\n",
              "<table border=\"1\" class=\"dataframe\">\n",
              "  <thead>\n",
              "    <tr style=\"text-align: right;\">\n",
              "      <th></th>\n",
              "      <th>FlowTime</th>\n",
              "      <th>Amount</th>\n",
              "      <th>Litres</th>\n",
              "      <th>Voltage</th>\n",
              "      <th>FxRate</th>\n",
              "      <th>FlowRate</th>\n",
              "    </tr>\n",
              "    <tr>\n",
              "      <th>DateTime</th>\n",
              "      <th></th>\n",
              "      <th></th>\n",
              "      <th></th>\n",
              "      <th></th>\n",
              "      <th></th>\n",
              "      <th></th>\n",
              "    </tr>\n",
              "  </thead>\n",
              "  <tbody>\n",
              "    <tr>\n",
              "      <th>2018-07-09 00:33:56</th>\n",
              "      <td>75</td>\n",
              "      <td>9</td>\n",
              "      <td>24.313889</td>\n",
              "      <td>13.12</td>\n",
              "      <td>0.025</td>\n",
              "      <td>19.451111</td>\n",
              "    </tr>\n",
              "    <tr>\n",
              "      <th>2018-07-09 00:35:19</th>\n",
              "      <td>80</td>\n",
              "      <td>10</td>\n",
              "      <td>25.641667</td>\n",
              "      <td>13.12</td>\n",
              "      <td>0.025</td>\n",
              "      <td>19.231250</td>\n",
              "    </tr>\n",
              "    <tr>\n",
              "      <th>2018-07-09 00:49:31</th>\n",
              "      <td>44</td>\n",
              "      <td>5</td>\n",
              "      <td>13.616667</td>\n",
              "      <td>13.12</td>\n",
              "      <td>0.025</td>\n",
              "      <td>18.568182</td>\n",
              "    </tr>\n",
              "    <tr>\n",
              "      <th>2018-07-09 00:54:11</th>\n",
              "      <td>33</td>\n",
              "      <td>4</td>\n",
              "      <td>10.427778</td>\n",
              "      <td>13.12</td>\n",
              "      <td>0.025</td>\n",
              "      <td>18.959596</td>\n",
              "    </tr>\n",
              "    <tr>\n",
              "      <th>2018-07-09 01:00:57</th>\n",
              "      <td>37</td>\n",
              "      <td>5</td>\n",
              "      <td>12.238889</td>\n",
              "      <td>13.12</td>\n",
              "      <td>0.025</td>\n",
              "      <td>19.846847</td>\n",
              "    </tr>\n",
              "  </tbody>\n",
              "</table>\n",
              "</div>"
            ],
            "text/plain": [
              "                     FlowTime  Amount     Litres  Voltage  FxRate   FlowRate\n",
              "DateTime                                                                    \n",
              "2018-07-09 00:33:56        75       9  24.313889    13.12   0.025  19.451111\n",
              "2018-07-09 00:35:19        80      10  25.641667    13.12   0.025  19.231250\n",
              "2018-07-09 00:49:31        44       5  13.616667    13.12   0.025  18.568182\n",
              "2018-07-09 00:54:11        33       4  10.427778    13.12   0.025  18.959596\n",
              "2018-07-09 01:00:57        37       5  12.238889    13.12   0.025  19.846847"
            ]
          },
          "metadata": {
            "tags": []
          },
          "execution_count": 45
        }
      ]
    },
    {
      "cell_type": "code",
      "metadata": {
        "id": "AHXBS7A1s6D1",
        "colab_type": "code",
        "colab": {}
      },
      "source": [
        "Asset_5_x_input = Asset_5_x_input.values"
      ],
      "execution_count": 46,
      "outputs": []
    },
    {
      "cell_type": "code",
      "metadata": {
        "id": "sMTUPEKJs6D3",
        "colab_type": "code",
        "colab": {}
      },
      "source": [
        "Asset_5_x_input, _ = split_sequence(Asset_5_x_input, 30)"
      ],
      "execution_count": 47,
      "outputs": []
    },
    {
      "cell_type": "code",
      "metadata": {
        "id": "22-KeUFOs6D5",
        "colab_type": "code",
        "colab": {
          "base_uri": "https://localhost:8080/",
          "height": 0
        },
        "outputId": "418d2343-406a-46c7-82ab-70285d495c64"
      },
      "source": [
        "print(np.asarray(Asset_5_x_input).shape)"
      ],
      "execution_count": 48,
      "outputs": [
        {
          "output_type": "stream",
          "text": [
            "(70, 30, 6)\n"
          ],
          "name": "stdout"
        }
      ]
    },
    {
      "cell_type": "code",
      "metadata": {
        "id": "OgVIE2D-s6D8",
        "colab_type": "code",
        "colab": {}
      },
      "source": [
        "Asset_5_x_input = np.array(Asset_5_x_input)"
      ],
      "execution_count": 49,
      "outputs": []
    },
    {
      "cell_type": "markdown",
      "metadata": {
        "id": "Wc7D5MQns6D-",
        "colab_type": "text"
      },
      "source": [
        "#### Probabilities of all predictions"
      ]
    },
    {
      "cell_type": "code",
      "metadata": {
        "id": "TbKra3DWs6D_",
        "colab_type": "code",
        "colab": {
          "base_uri": "https://localhost:8080/",
          "height": 0
        },
        "outputId": "77ce94df-3968-4386-9fb4-102d0848cacd"
      },
      "source": [
        "Asset_5_yhat = model_LSTM.predict(Asset_5_x_input, verbose=0)\n",
        "Asset_5_yhat"
      ],
      "execution_count": 50,
      "outputs": [
        {
          "output_type": "execute_result",
          "data": {
            "text/plain": [
              "array([[3.8879855e-25, 3.8507912e-09, 6.7749914e-26, ..., 3.5504742e-27,\n",
              "        1.1213454e-13, 7.5023268e-06],\n",
              "       [7.7276646e-33, 6.2657985e-09, 9.0036209e-34, ..., 1.4511087e-35,\n",
              "        3.7401955e-16, 3.7640299e-07],\n",
              "       [9.5333451e-18, 1.9697367e-05, 7.9954252e-18, ..., 1.8727495e-18,\n",
              "        2.6985940e-12, 3.3214320e-07],\n",
              "       ...,\n",
              "       [4.4054605e-18, 1.6049287e-10, 1.3505575e-18, ..., 3.0239691e-19,\n",
              "        2.8656988e-14, 1.7727526e-08],\n",
              "       [1.5899373e-15, 3.6704762e-06, 1.2727545e-15, ..., 1.3312115e-16,\n",
              "        1.8446669e-10, 3.7002560e-06],\n",
              "       [4.6656785e-15, 2.9807572e-07, 5.5134111e-15, ..., 5.8279419e-16,\n",
              "        1.7926768e-10, 9.0109927e-05]], dtype=float32)"
            ]
          },
          "metadata": {
            "tags": []
          },
          "execution_count": 50
        }
      ]
    },
    {
      "cell_type": "code",
      "metadata": {
        "id": "knd-fF4ks6EE",
        "colab_type": "code",
        "colab": {
          "base_uri": "https://localhost:8080/",
          "height": 0
        },
        "outputId": "521845ba-e37a-4979-87f6-71e6944fa6c1"
      },
      "source": [
        "Asset_5_yhat.shape"
      ],
      "execution_count": 51,
      "outputs": [
        {
          "output_type": "execute_result",
          "data": {
            "text/plain": [
              "(70, 25)"
            ]
          },
          "metadata": {
            "tags": []
          },
          "execution_count": 51
        }
      ]
    },
    {
      "cell_type": "markdown",
      "metadata": {
        "id": "eR3G6MINs6EG",
        "colab_type": "text"
      },
      "source": [
        "#### Convert all prediction probabilities to actual Error Codes"
      ]
    },
    {
      "cell_type": "code",
      "metadata": {
        "id": "yFT0HnQYs6EG",
        "colab_type": "code",
        "colab": {
          "base_uri": "https://localhost:8080/",
          "height": 0
        },
        "outputId": "571b654f-c088-4c05-d5fd-57d029b30d64"
      },
      "source": [
        "np.argmax(Asset_5_yhat, axis=-1).shape"
      ],
      "execution_count": 52,
      "outputs": [
        {
          "output_type": "execute_result",
          "data": {
            "text/plain": [
              "(70,)"
            ]
          },
          "metadata": {
            "tags": []
          },
          "execution_count": 52
        }
      ]
    },
    {
      "cell_type": "code",
      "metadata": {
        "id": "CDr-pzVUs6EK",
        "colab_type": "code",
        "colab": {
          "base_uri": "https://localhost:8080/",
          "height": 0
        },
        "outputId": "6b588666-c3fd-4abd-c9ff-69435adaf8f3"
      },
      "source": [
        "np.argmax(Asset_5_yhat, axis=-1)"
      ],
      "execution_count": 53,
      "outputs": [
        {
          "output_type": "execute_result",
          "data": {
            "text/plain": [
              "array([ 9,  9,  5,  5,  9,  9,  5,  5,  9,  9, 14, 14,  9,  9,  9,  9,  9,\n",
              "        9,  5,  9,  9, 17,  9, 16,  9, 14,  9,  9,  9,  9,  9,  9,  9,  9,\n",
              "        9,  9,  9,  9,  9,  9,  9,  9,  9,  5,  9,  9,  9,  9, 14,  9,  9,\n",
              "        9,  9,  9,  9,  9,  9,  9,  9,  9,  9, 17,  9,  9,  9,  9,  5,  9,\n",
              "        9,  9])"
            ]
          },
          "metadata": {
            "tags": []
          },
          "execution_count": 53
        }
      ]
    },
    {
      "cell_type": "code",
      "metadata": {
        "id": "-8dZjVEVs6EO",
        "colab_type": "code",
        "colab": {}
      },
      "source": [
        ""
      ],
      "execution_count": 53,
      "outputs": []
    }
  ]
}